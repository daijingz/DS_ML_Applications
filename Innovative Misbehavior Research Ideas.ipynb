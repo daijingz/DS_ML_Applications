{
 "cells": [
  {
   "cell_type": "markdown",
   "id": "1a9b87ac",
   "metadata": {},
   "source": [
    "# Innovative Misbehavior Research Ideas"
   ]
  },
  {
   "cell_type": "markdown",
   "id": "3cd71c80",
   "metadata": {},
   "source": [
    "<p><b>Author</b>: Jingze Dai</p>\n",
    "<p><b>McMaster University</b>, Honors Computer Science (Coop) student</p>\n",
    "<p><b>Personal Email Address</b>: <a>david1147062956@gmail.com</a>, or <a>dai.jingze@icloud.com</a></p>\n",
    "<a href=\"https://github.com/daijingz\">Github Homepage</a>\n",
    "<a href=\"https://www.linkedin.com/in/jingze-dai/\">Linkedin Webpage</a>\n",
    "<a href=\"https://leetcode.com/david1147062956/\">Leetcode Webpage</a>"
   ]
  },
  {
   "cell_type": "markdown",
   "id": "5114f58c",
   "metadata": {},
   "source": [
    "<i>This notebook includes summaries of some research methods and ideas, with three categories: parameter-related researches, research publication reading, and diverse calculation and processing techniques. Their common goal is to find optimized performance of misbehavior classification models.</i>"
   ]
  },
  {
   "cell_type": "markdown",
   "id": "83567696",
   "metadata": {},
   "source": [
    "<i>Your Feedback is important for Jingze's further development. If you want to give feedback and suggestions, or you want to participate in working and learning together, please email Jingze at dai.jingze@icloud.com. If you want Jingze to provide contributions to your research or opensource project or you want Jingze to help you with any programming issues, please email Jingze at david1147062956@gmail.com. Thank you for your help.</i>"
   ]
  },
  {
   "cell_type": "markdown",
   "id": "cbf0919a",
   "metadata": {},
   "source": [
    "<b>Idea 1</b>: Understanding all features' meaning and detecting inconsistencies inside their values"
   ]
  },
  {
   "cell_type": "markdown",
   "id": "8e50f1b4",
   "metadata": {},
   "source": [
    "<b>Idea 2</b>: Brute force method: checking each parameter group's performance independently\n",
    "\n",
    "Parameters that will affect <u><i>Logistic Regression</i></u> performance: 'C' and 'solver'\n",
    "\n",
    "Parameters that will affect <u><i>KNN</i></u> performance: 'n_neighbors', 'weights', 'algorithm', 'leaf_size', 'metric', 'p', and 'metric_params'\n",
    "\n",
    "Parameters that will affect <u><i>Random Forest</i></u> performance: 'n_estimators', 'criterion', 'max_depth', 'min_samples_split', 'min_samples_leaf', 'max_features', 'bootstrap', 'random_state', 'class_weight', 'n_jobs'\n",
    "\n",
    "Parameters that will affect <u><i>Decision Tree</i></u> performance:"
   ]
  },
  {
   "cell_type": "markdown",
   "id": "f032e66b",
   "metadata": {},
   "source": [
    "<b>Idea 3</b>: Adjusting training and testing data ratios\n",
    "\n",
    "<b>Normal Training Data : Testing Data Ratio</b>: 80% Training Data versus 20% Testing Data -> Default\n",
    "\n",
    "To find an optimal balance between training data and testing data, I use "
   ]
  },
  {
   "cell_type": "markdown",
   "id": "04187a7c",
   "metadata": {},
   "source": [
    "<b>Idea 4</b>: Reading related research publications\n",
    "\n",
    "<hr style=\"height:2px;border-width:0;color:gray;background-color:gray\">\n",
    "\n",
    "<b>Essay Topic</b>: Towards Misbehavior Intelligent Detection Using Guided Machine Learning in Vehicular Ad-hoc Networks (VANET)\n",
    "\n",
    "<b>Citation (MLA format)</b>: Slama, Omessaad, Bechir Alaya, and Salah Zidi. \"Towards misbehavior intelligent detection using guided machine learning in vehicular ad-hoc networks (VANET).\" Inteligencia Artificial 25.70 (2022): 138-154.\n",
    "\n",
    "<b>Summary</b>: Analyze data from a professional VANETs autonomous driving dataset, and select features with three feature selection methods. Using these features to build misbehavior classification models with nine classification algorithms (including neural networks), with calculated accuracy.\n",
    "\n",
    "<hr style=\"height:2px;border-width:0;color:gray;background-color:gray\">\n",
    "\n",
    "<b>Essay Topic</b>: An Amalgamated Novel IDS Model for Misbehaviour Detection using VeReMiNet\n",
    "\n",
    "<b>Citation (MLA format)</b>: Saudagar, Saleha, and Rekha Ranawat. \"An Amalgamated Novel IDS Model for Misbehaviour Detection using VeReMiNet.\" Computer Standards & Interfaces 88 (2024): 103783.\n",
    "\n",
    "<b>Summary</b>: \n",
    "\n",
    "<hr style=\"height:2px;border-width:0;color:gray;background-color:gray\">\n",
    "\n",
    "<b>Essay Topic</b>: Stacking Ensemble Models for Misbehavior Detection in Vehicular Networks\n",
    "\n",
    "<b>Citation (MLA format)</b>: Fabiyi, S. D., and O. E. Ajibuwa. \"Stacking Ensemble Models for Misbehavior Detection in Vehicular Networks.\" Proceedings of 7th International Conference on Computing, Communication, Control and Automation. IEEE, 2023.\n",
    "\n",
    "<b>Summary</b>: "
   ]
  },
  {
   "cell_type": "code",
   "execution_count": null,
   "id": "9877a18d",
   "metadata": {},
   "outputs": [],
   "source": []
  },
  {
   "cell_type": "markdown",
   "id": "ec0c27a2",
   "metadata": {},
   "source": [
    "<b>Idea 5</b>: Principal Component Analysis Technique Usages"
   ]
  },
  {
   "cell_type": "code",
   "execution_count": null,
   "id": "e45a91e9",
   "metadata": {},
   "outputs": [],
   "source": []
  }
 ],
 "metadata": {
  "kernelspec": {
   "display_name": "Python 3 (ipykernel)",
   "language": "python",
   "name": "python3"
  },
  "language_info": {
   "codemirror_mode": {
    "name": "ipython",
    "version": 3
   },
   "file_extension": ".py",
   "mimetype": "text/x-python",
   "name": "python",
   "nbconvert_exporter": "python",
   "pygments_lexer": "ipython3",
   "version": "3.9.13"
  }
 },
 "nbformat": 4,
 "nbformat_minor": 5
}
