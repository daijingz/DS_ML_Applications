{
 "cells": [
  {
   "cell_type": "markdown",
   "id": "1a9b87ac",
   "metadata": {},
   "source": [
    "# Innovative Misbehavior Research Ideas"
   ]
  },
  {
   "cell_type": "markdown",
   "id": "3cd71c80",
   "metadata": {},
   "source": [
    "<p><b>Author</b>: Jingze Dai</p>\n",
    "<p><b>McMaster University</b>, Honors Computer Science (Coop) student</p>\n",
    "<p><b>Personal Email Address</b>: <a>david1147062956@gmail.com</a>, or <a>dai.jingze@icloud.com</a></p>\n",
    "<a href=\"https://github.com/daijingz\">Github Homepage</a>\n",
    "<a href=\"https://www.linkedin.com/in/jingze-dai/\">Linkedin Webpage</a>\n",
    "<a href=\"https://leetcode.com/david1147062956/\">Leetcode Webpage</a>"
   ]
  },
  {
   "cell_type": "markdown",
   "id": "5114f58c",
   "metadata": {},
   "source": [
    "<i>The original research's second featuring method selected distinct features from the Recursive Feature Elimination (RFE) implementation. This notebook includes misbehavior classification by using these distinct features.</i>"
   ]
  },
  {
   "cell_type": "markdown",
   "id": "83567696",
   "metadata": {},
   "source": [
    "<i>Your Feedback is important for Jingze's further development. If you want to give feedback and suggestions, or you want to participate in working and learning together, please email Jingze at dai.jingze@icloud.com. If you want Jingze to provide contributions to your research or opensource project or you want Jingze to help you with any programming issues, please email Jingze at david1147062956@gmail.com. Thank you for your help.</i>"
   ]
  },
  {
   "cell_type": "markdown",
   "id": "cbf0919a",
   "metadata": {},
   "source": [
    "<b>Idea 1</b>: Understanding all columns' meaning"
   ]
  },
  {
   "cell_type": "markdown",
   "id": "8e50f1b4",
   "metadata": {},
   "source": [
    "<b>Idea 2</b>: Brute force method: checking each parameter group's performance independently"
   ]
  },
  {
   "cell_type": "markdown",
   "id": "f032e66b",
   "metadata": {},
   "source": [
    "<b>Idea 3</b>: Adjusting training and testing data ratios"
   ]
  },
  {
   "cell_type": "code",
   "execution_count": null,
   "id": "f32c89cd",
   "metadata": {},
   "outputs": [],
   "source": []
  }
 ],
 "metadata": {
  "kernelspec": {
   "display_name": "Python 3 (ipykernel)",
   "language": "python",
   "name": "python3"
  },
  "language_info": {
   "codemirror_mode": {
    "name": "ipython",
    "version": 3
   },
   "file_extension": ".py",
   "mimetype": "text/x-python",
   "name": "python",
   "nbconvert_exporter": "python",
   "pygments_lexer": "ipython3",
   "version": "3.9.13"
  }
 },
 "nbformat": 4,
 "nbformat_minor": 5
}
