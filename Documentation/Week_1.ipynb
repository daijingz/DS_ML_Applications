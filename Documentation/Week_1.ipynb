{
 "cells": [
  {
   "cell_type": "markdown",
   "metadata": {},
   "source": [
    "<h1>Stanford Machine Learning Week 1 Notes</h1>"
   ]
  },
  {
   "cell_type": "markdown",
   "metadata": {},
   "source": [
    "<b>Author: Jingze Dai</b>\n",
    "<p>McMaster University, Honors Computer Science (Coop) student (Currently 4th year)</p>\n",
    "<p>Preferred Email Address: daij24@mcmaster.ca</p>\n",
    "<p>Email Address: david1147062956@163.com</p>\n",
    "<a href=\"https://github.com/daijingz\">Github Homepage</a>\n",
    "<a href=\"https://www.linkedin.com/in/jingze-dai/\">Linkedin Webpage</a>"
   ]
  },
  {
   "cell_type": "markdown",
   "metadata": {},
   "source": [
    "<b>What is machine learning?</b>\n",
    "<p>The study of computer algorithms that improve automatically through experience. <b>(Without any explicit coding)</b></p>\n",
    "<p>A computer program is said to learn from experience E with respect to some task T and some performance measure P, if its performance on T, as measured by P, improves with experience E.</p>"
   ]
  },
  {
   "cell_type": "markdown",
   "metadata": {},
   "source": [
    "<p><b>Supervised Learning</b>: given a data set and know what our correct output should look like, having the idea that there is a relationship between the input and the output. (attempts to learn a function I/O mapping.)</p>\n",
    "<ul>\n",
    "    <li><b>Regression Problem</b>: trying to predict results within a continuous output, meaning that we are trying to map input variables to some continuous function.</li>\n",
    "    <li><b>Classification Problem</b>: trying to predict results in a discrete output. In other words, we are trying to map input variables into discrete categories.</li>\n",
    "</ul>"
   ]
  },
  {
   "cell_type": "markdown",
   "metadata": {},
   "source": [
    "<p><b>Unsupervised Learning</b>: allows us to approach problems with little or no idea what our results should look like. We can derive structure from data where we don't necessarily know the effect of the variables.</p>\n",
    "<ul>\n",
    "    <li>With unsupervised learning there is no feedback based on the prediction results.</li>\n",
    "    <li>We can derive this structure by clustering the data based on relationships among the variables in the data.</li>\n",
    "    <li><b>Clustering</b>: process of grouping similar entities together.</li>\n",
    "    <li><b>Non-Clustering</b>: allows you to find structure in a chaotic environment.</li>\n",
    "</ul>"
   ]
  },
  {
   "cell_type": "markdown",
   "metadata": {},
   "source": [
    "<img src=\"example1.jpg\" alt=\"https://github.com/daijingz/Data-Science-Machine-Learning/blob/main/img/example1.jpg\">\n",
    "<b>(Function “h” represents predictor for the corresponding value of y)</b>"
   ]
  },
  {
   "cell_type": "code",
   "execution_count": null,
   "metadata": {},
   "outputs": [],
   "source": []
  }
 ],
 "metadata": {
  "kernelspec": {
   "display_name": "Python 3",
   "language": "python",
   "name": "python3"
  },
  "language_info": {
   "codemirror_mode": {
    "name": "ipython",
    "version": 3
   },
   "file_extension": ".py",
   "mimetype": "text/x-python",
   "name": "python",
   "nbconvert_exporter": "python",
   "pygments_lexer": "ipython3",
   "version": "3.8.5"
  }
 },
 "nbformat": 4,
 "nbformat_minor": 4
}
