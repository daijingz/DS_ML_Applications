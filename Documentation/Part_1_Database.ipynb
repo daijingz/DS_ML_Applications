{
 "cells": [
  {
   "cell_type": "markdown",
   "metadata": {},
   "source": [
    "<h1>Data Science and Machine Learning Documentation Part 1: Database</h1>"
   ]
  },
  {
   "cell_type": "markdown",
   "metadata": {},
   "source": [
    "<b>Author: Jingze Dai</b>\n",
    "<p>McMaster University, Honors Computer Science (Coop) student (Currently 4th year)</p>\n",
    "<p>Preferred Email Address: daij24@mcmaster.ca</p>\n",
    "<p>Email Address: david1147062956@163.com</p>\n",
    "<a href=\"https://github.com/daijingz\">Github Homepage</a>\n",
    "<a href=\"https://www.linkedin.com/in/jingze-dai/\">Linkedin Webpage</a>"
   ]
  },
  {
   "cell_type": "markdown",
   "metadata": {},
   "source": [
    "<i>This project includes multiple projects with interesting data science and machine learning ideas. Some projects may include more than 1 programming languages' implementations. Data science implementations are mainly about building a database with data and manage data. Machine learning implementations are mainly about getting data for learning and providing relative appropriate results. There will be documentations that explain those kinds of information later. The author uses SQL and python to finish this project.</i>"
   ]
  },
  {
   "cell_type": "markdown",
   "metadata": {},
   "source": [
    "<i>Because of time limits, lots of works have not been uploaded to this repository. Sorry for inconvenience. More Information is coming soon.</i>"
   ]
  },
  {
   "cell_type": "markdown",
   "metadata": {},
   "source": [
    "<i>Your Feedback is important for David's further development. If you want to give feedbacks and suggestions, or you want to participate in working and learning together, please email David at daij24@mcmaster.ca. If you want David to provide contributions to your opensource project or you want David to help you with any programming issues, please email David at daij24@mcmaster.ca as well. Thank you for your help.</i>"
   ]
  },
  {
   "cell_type": "markdown",
   "metadata": {},
   "source": [
    "<h3>Introduction of designed database (davidteam)</h3>"
   ]
  },
  {
   "cell_type": "markdown",
   "metadata": {},
   "source": [
    "<p>The project \"<b>davidteam</b>\" is a simulated real estate team in David's imagination. It has a database that includes all informations that this real estate team has. </p>"
   ]
  },
  {
   "cell_type": "markdown",
   "metadata": {},
   "source": [
    "<h3>Environments of designed database (davidteam)</h3>"
   ]
  },
  {
   "cell_type": "markdown",
   "metadata": {},
   "source": [
    "<p>Software used: <b>MySQL Workbench</b>, 8.0 CE</p>\n",
    "<p>Operating system: <b>Windows 10</b> (both <b>32-bit and 64-bit</b> versions are included).</p>\n",
    "<p>SQL server version: <b>MySQL</b> Server 5.7, 5.6, 5.5, 5.1, and 5.0</p>"
   ]
  },
  {
   "cell_type": "code",
   "execution_count": null,
   "metadata": {},
   "outputs": [],
   "source": []
  }
 ],
 "metadata": {
  "kernelspec": {
   "display_name": "Python 3",
   "language": "python",
   "name": "python3"
  },
  "language_info": {
   "codemirror_mode": {
    "name": "ipython",
    "version": 3
   },
   "file_extension": ".py",
   "mimetype": "text/x-python",
   "name": "python",
   "nbconvert_exporter": "python",
   "pygments_lexer": "ipython3",
   "version": "3.8.5"
  }
 },
 "nbformat": 4,
 "nbformat_minor": 4
}
