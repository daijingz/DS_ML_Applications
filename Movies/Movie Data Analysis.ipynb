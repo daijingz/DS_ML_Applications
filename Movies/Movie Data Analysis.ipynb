{
 "cells": [
  {
   "cell_type": "markdown",
   "id": "f22c090c",
   "metadata": {},
   "source": [
    "# Movie Series Sub-Project 1: Movie Data Analysis"
   ]
  },
  {
   "cell_type": "markdown",
   "id": "c9efbaf8",
   "metadata": {},
   "source": [
    "<p><b>Author</b>: Jingze Dai</p>\n",
    "<p><b>McMaster University</b>, Honors Computer Science (Coop) student</p>\n",
    "<p><b>Campus Email Address</b>: daij24@mcmaster.ca</p>\n",
    "<p><b>Personal Email Address</b>: david1147062956@gmail.com</p>\n",
    "<a href=\"https://github.com/daijingz\">Github Homepage</a>\n",
    "<a href=\"https://www.linkedin.com/in/jingze-dai/\">Linkedin Webpage</a>"
   ]
  },
  {
   "cell_type": "markdown",
   "id": "b68147e6",
   "metadata": {},
   "source": [
    "<i>This sub-project analyze the dataset data with obtained visualized observations.</i>"
   ]
  },
  {
   "cell_type": "markdown",
   "id": "35c9c679",
   "metadata": {},
   "source": [
    "<i>Your Feedback is important for Jingze's further development. If you want to give feedback and suggestions, or you want to participate in working and learning together, please email Jingze at daij24@mcmaster.ca. If you want Jingze to provide contributions to your research or opensource project or you want Jingze to help you with any programming issues, please email Jingze at david1147062956@gmail.com. Thank you for your help.</i>"
   ]
  },
  {
   "cell_type": "markdown",
   "id": "ab7caaa2",
   "metadata": {},
   "source": [
    "### <a class=\"anchor\" id=\"\"><b>Section 1</b>: Dataset sources</a>"
   ]
  },
  {
   "cell_type": "markdown",
   "id": "5043203f",
   "metadata": {},
   "source": [
    "<b>Name</b>: TMDB 5000 Movie Dataset\n",
    "<br>\n",
    "<b>Source</b>: Kaggle\n",
    "<br>\n",
    "<b>Download Link</b>: <a href=\"https://www.kaggle.com/datasets/tmdb/tmdb-movie-metadata\">TMDB 5000 Movie Dataset</a>\n",
    "\n",
    "After downloading the compressed folder, unzip it. The expected situation indicates two existing files: <b>tmdb_5000_credits.csv</b> and <b>tmdb_5000_movies.csv</b>\n",
    "\n",
    "Putting these two data files in the same folder with this notebook."
   ]
  },
  {
   "cell_type": "markdown",
   "id": "ab00e22b",
   "metadata": {},
   "source": [
    "### <a class=\"anchor\" id=\"\"><b>Section 2</b>: Early-stage data observations</a>"
   ]
  },
  {
   "cell_type": "markdown",
   "id": "adff0e9b",
   "metadata": {},
   "source": [
    "<b>File Name</b>: tmdb_5000_credits.csv\n",
    "<br>\n",
    "<b>Columns</b>: 4"
   ]
  },
  {
   "cell_type": "markdown",
   "id": "fc580832",
   "metadata": {},
   "source": [
    "| Columns  | Description   |      Type     | Maximum | Minimum |\n",
    "|:---------|---------------|:--------------|:--------|--------:|\n",
    "| movie_id |      identifier of movies (have unique values)     |  left-aligned |  1600   |       1 |\n",
    "| title    |      movie title     |    centered   |    12   |       1 |\n",
    "| cast     |      Type     | right-aligned |     1   |       1 |\n",
    "| crew     |      Type     | right-aligned |     1   |       1 |"
   ]
  },
  {
   "cell_type": "code",
   "execution_count": null,
   "id": "c129412e",
   "metadata": {},
   "outputs": [],
   "source": []
  },
  {
   "cell_type": "markdown",
   "id": "a247cd73",
   "metadata": {},
   "source": [
    "<b>File Name</b>: tmdb_5000_movies.csv"
   ]
  },
  {
   "cell_type": "code",
   "execution_count": null,
   "id": "894a9621",
   "metadata": {},
   "outputs": [],
   "source": []
  }
 ],
 "metadata": {
  "kernelspec": {
   "display_name": "Python 3 (ipykernel)",
   "language": "python",
   "name": "python3"
  },
  "language_info": {
   "codemirror_mode": {
    "name": "ipython",
    "version": 3
   },
   "file_extension": ".py",
   "mimetype": "text/x-python",
   "name": "python",
   "nbconvert_exporter": "python",
   "pygments_lexer": "ipython3",
   "version": "3.9.13"
  }
 },
 "nbformat": 4,
 "nbformat_minor": 5
}
