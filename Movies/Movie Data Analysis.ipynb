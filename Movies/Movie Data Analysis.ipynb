{
 "cells": [
  {
   "cell_type": "markdown",
   "id": "f22c090c",
   "metadata": {},
   "source": [
    "# Movie Series Sub-Project 1: Movie Data Analysis"
   ]
  },
  {
   "cell_type": "markdown",
   "id": "c9efbaf8",
   "metadata": {},
   "source": [
    "<p><b>Author</b>: Jingze Dai</p>\n",
    "<p><b>McMaster University</b>, Honors Computer Science (Coop) student</p>\n",
    "<p><b>Personal Email Address</b>: <a>david1147062956@gmail.com</a>, or <a>dai.jingze@icloud.com</a></p>\n",
    "<a href=\"https://github.com/daijingz\">Github Homepage</a>\n",
    "<a href=\"https://www.linkedin.com/in/jingze-dai/\">Linkedin Webpage</a>\n",
    "<a href=\"https://leetcode.com/david1147062956/\">Leetcode Webpage</a>"
   ]
  },
  {
   "cell_type": "markdown",
   "id": "b68147e6",
   "metadata": {},
   "source": [
    "<i>This sub-project analyze the dataset data with obtained visualized observations.</i>"
   ]
  },
  {
   "cell_type": "markdown",
   "id": "35c9c679",
   "metadata": {},
   "source": [
    "<i>Your Feedback is important for Jingze's further development. If you want to give feedback and suggestions, or you want to participate in working and learning together, please email Jingze at dai.jingze@icloud.com. If you want Jingze to provide contributions to your research or opensource project or you want Jingze to help you with any programming issues, please email Jingze at david1147062956@gmail.com. Thank you for your help.</i>"
   ]
  },
  {
   "cell_type": "markdown",
   "id": "ab7caaa2",
   "metadata": {},
   "source": [
    "### <a class=\"anchor\" id=\"\"><b>Section 1</b>: Dataset sources</a>"
   ]
  },
  {
   "cell_type": "markdown",
   "id": "5043203f",
   "metadata": {},
   "source": [
    "<b>Name</b>: TMDB 5000 Movie Dataset\n",
    "<br>\n",
    "<b>Source</b>: Kaggle\n",
    "<br>\n",
    "<b>Download Link</b>: <a href=\"https://www.kaggle.com/datasets/tmdb/tmdb-movie-metadata\">TMDB 5000 Movie Dataset</a>\n",
    "\n",
    "After downloading the compressed folder, unzip it. The expected situation indicates two datasets: <b>tmdb_5000_credits.csv</b> and <b>tmdb_5000_movies.csv</b> Each dataset contains different information.\n",
    "\n",
    "Putting these two data files in the same folder with this notebook."
   ]
  },
  {
   "cell_type": "markdown",
   "id": "ab00e22b",
   "metadata": {},
   "source": [
    "### <a class=\"anchor\" id=\"\"><b>Section 2</b>: Early-stage data observations</a>"
   ]
  },
  {
   "cell_type": "code",
   "execution_count": 3,
   "id": "436c0473",
   "metadata": {},
   "outputs": [
    {
     "name": "stdout",
     "output_type": "stream",
     "text": [
      "Existing Datasets: \n",
      "C:\\Users\\david\\Downloads\\Movies\\tmdb_5000_credits.csv\n",
      "C:\\Users\\david\\Downloads\\Movies\\tmdb_5000_movies.csv\n"
     ]
    }
   ],
   "source": [
    "import numpy as np\n",
    "import pandas as pd\n",
    "import matplotlib.pyplot as plt\n",
    "import seaborn as sns\n",
    "import os\n",
    "\n",
    "print(\"Existing Datasets: \")\n",
    "for dirname, _, filenames in os.walk(os.getcwd()):\n",
    "    for filename in filenames:\n",
    "        if filename[-4:] == '.csv':\n",
    "            print(os.path.join(dirname, filename))"
   ]
  },
  {
   "cell_type": "markdown",
   "id": "adff0e9b",
   "metadata": {},
   "source": [
    "<b>Dataset 1 Name</b>: tmdb_5000_credits.csv\n",
    "<br>\n",
    "<b>Majority Content</b>: Movie participants' information, including crews and casts.\n",
    "<br>\n",
    "<b>Columns</b>: 4"
   ]
  },
  {
   "cell_type": "markdown",
   "id": "fc580832",
   "metadata": {},
   "source": [
    "| Columns  | Description   |      Range     | # of Values | All values are unique |\n",
    "|:---------|---------------|:--------------|:--------|--------:|\n",
    "| movie_id |      identifier of movies (have unique values)     |  5, 459K |  4813   |       Yes |\n",
    "| title    |      movie title     |    Complicated   |    4800   |       No |\n",
    "| cast     |      cast information     | Complicated |     4761   |       No |\n",
    "| crew     |      crew information     | Complicated |     4776   |       No |"
   ]
  },
  {
   "cell_type": "markdown",
   "id": "84d3d170",
   "metadata": {},
   "source": [
    "The identifier of each record is the variable \"<b>movie_id</b>\", ranges from 5 to 459000 and has the integer type. Variable \"title\" has string values. Variable \"cast\" and \"crew\" combines multiple data types, and they do not have specific value ranges."
   ]
  },
  {
   "cell_type": "code",
   "execution_count": 13,
   "id": "4a9c8a44",
   "metadata": {},
   "outputs": [
    {
     "name": "stdout",
     "output_type": "stream",
     "text": [
      "Number of rows: 4803\n",
      "Number of columns: 4\n",
      "\n",
      "Columns:\n",
      "Index(['movie_id', 'title', 'cast', 'crew'], dtype='object')\n",
      "\n",
      "Data Types:\n",
      "movie_id     int64\n",
      "title       object\n",
      "cast        object\n",
      "crew        object\n",
      "dtype: object\n"
     ]
    }
   ],
   "source": [
    "credit_dataset_path = 'tmdb_5000_credits.csv'\n",
    "credit_df = pd.read_csv(credit_dataset_path)\n",
    "print(\"Number of rows:\", credit_df.shape[0])\n",
    "print(\"Number of columns:\", credit_df.shape[1])\n",
    "print(\"\\nColumns:\")\n",
    "print(credit_df.columns)\n",
    "print(\"\\nData Types:\")\n",
    "print(credit_df.dtypes)"
   ]
  },
  {
   "cell_type": "markdown",
   "id": "a247cd73",
   "metadata": {},
   "source": [
    "<b>File Name</b>: tmdb_5000_movies.csv\n",
    "<br>\n",
    "<b>Majority Content</b>: Movies' basic information, such as content and budgets\n",
    "<br>\n",
    "<b>Columns</b>: 20"
   ]
  },
  {
   "cell_type": "code",
   "execution_count": 14,
   "id": "4ab070a5",
   "metadata": {},
   "outputs": [
    {
     "name": "stdout",
     "output_type": "stream",
     "text": [
      "Number of rows: 4803\n",
      "Number of columns: 20\n",
      "\n",
      "Columns:\n",
      "Index(['budget', 'genres', 'homepage', 'id', 'keywords', 'original_language',\n",
      "       'original_title', 'overview', 'popularity', 'production_companies',\n",
      "       'production_countries', 'release_date', 'revenue', 'runtime',\n",
      "       'spoken_languages', 'status', 'tagline', 'title', 'vote_average',\n",
      "       'vote_count'],\n",
      "      dtype='object')\n",
      "\n",
      "Data Types:\n",
      "budget                    int64\n",
      "genres                   object\n",
      "homepage                 object\n",
      "id                        int64\n",
      "keywords                 object\n",
      "original_language        object\n",
      "original_title           object\n",
      "overview                 object\n",
      "popularity              float64\n",
      "production_companies     object\n",
      "production_countries     object\n",
      "release_date             object\n",
      "revenue                   int64\n",
      "runtime                 float64\n",
      "spoken_languages         object\n",
      "status                   object\n",
      "tagline                  object\n",
      "title                    object\n",
      "vote_average            float64\n",
      "vote_count                int64\n",
      "dtype: object\n"
     ]
    }
   ],
   "source": [
    "major_dataset_path = 'tmdb_5000_movies.csv'\n",
    "major_df = pd.read_csv(major_dataset_path)\n",
    "print(\"Number of rows:\", major_df.shape[0])\n",
    "print(\"Number of columns:\", major_df.shape[1])\n",
    "print(\"\\nColumns:\")\n",
    "print(major_df.columns)\n",
    "print(\"\\nData Types:\")\n",
    "print(major_df.dtypes)"
   ]
  },
  {
   "cell_type": "markdown",
   "id": "9e9dc553",
   "metadata": {},
   "source": [
    "### <a class=\"anchor\" id=\"\"><b>Section 3</b>: Data Preprocessing</a>"
   ]
  },
  {
   "cell_type": "markdown",
   "id": "56448751",
   "metadata": {},
   "source": [
    "Before performing normal data analysis, discovering incompleteness, inappropriate values, and conflicts can diminish potential problems in the future steps. "
   ]
  },
  {
   "cell_type": "code",
   "execution_count": 17,
   "id": "00a2976c",
   "metadata": {},
   "outputs": [
    {
     "name": "stdout",
     "output_type": "stream",
     "text": [
      "Missing values in each column of the credit data set:\n",
      "movie_id    0\n",
      "title       0\n",
      "cast        0\n",
      "crew        0\n",
      "dtype: int64\n",
      "\n",
      "\n",
      "Missing values in each column of the major data set:\n",
      "budget                     0\n",
      "genres                     0\n",
      "homepage                3091\n",
      "id                         0\n",
      "keywords                   0\n",
      "original_language          0\n",
      "original_title             0\n",
      "overview                   3\n",
      "popularity                 0\n",
      "production_companies       0\n",
      "production_countries       0\n",
      "release_date               1\n",
      "revenue                    0\n",
      "runtime                    2\n",
      "spoken_languages           0\n",
      "status                     0\n",
      "tagline                  844\n",
      "title                      0\n",
      "vote_average               0\n",
      "vote_count                 0\n",
      "dtype: int64\n"
     ]
    }
   ],
   "source": [
    "import pandas as pd\n",
    "\n",
    "print(\"Missing values in each column of the credit data set:\")\n",
    "print(credit_df.isnull().sum())\n",
    "print(\"\\n\")\n",
    "print(\"Missing values in each column of the major data set:\")\n",
    "print(major_df.isnull().sum())"
   ]
  },
  {
   "cell_type": "markdown",
   "id": "1644ee4c",
   "metadata": {},
   "source": [
    "Seems like the credit datset does not have any missing values, but there are a lot of missing information on the major movie information fields."
   ]
  },
  {
   "cell_type": "code",
   "execution_count": null,
   "id": "a984ad1a",
   "metadata": {},
   "outputs": [],
   "source": []
  }
 ],
 "metadata": {
  "kernelspec": {
   "display_name": "Python 3 (ipykernel)",
   "language": "python",
   "name": "python3"
  },
  "language_info": {
   "codemirror_mode": {
    "name": "ipython",
    "version": 3
   },
   "file_extension": ".py",
   "mimetype": "text/x-python",
   "name": "python",
   "nbconvert_exporter": "python",
   "pygments_lexer": "ipython3",
   "version": "3.9.13"
  }
 },
 "nbformat": 4,
 "nbformat_minor": 5
}
