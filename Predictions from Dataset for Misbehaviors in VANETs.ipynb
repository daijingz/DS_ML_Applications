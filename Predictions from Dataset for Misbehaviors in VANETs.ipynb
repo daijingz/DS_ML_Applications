{
 "cells": [
  {
   "cell_type": "markdown",
   "id": "d3a61005",
   "metadata": {},
   "source": [
    "# Predictions from Dataset for Misbehaviors in VANETs"
   ]
  },
  {
   "cell_type": "markdown",
   "id": "d32a31c4",
   "metadata": {},
   "source": [
    "<p><b>Author</b>: Jingze Dai</p>\n",
    "<p><b>McMaster University</b>, Honors Computer Science (Coop) student</p>\n",
    "<p><b>Personal Email Address</b>: <a>david1147062956@gmail.com</a>, or <a>dai.jingze@icloud.com</a></p>\n",
    "<a href=\"https://github.com/daijingz\">Github Homepage</a>\n",
    "<a href=\"https://www.linkedin.com/in/jingze-dai/\">Linkedin Webpage</a>\n",
    "<a href=\"https://leetcode.com/david1147062956/\">Leetcode Webpage</a>"
   ]
  },
  {
   "cell_type": "markdown",
   "id": "44329d9a",
   "metadata": {},
   "source": [
    "<i>This project is a re-creation of the VANETs automatic driving vehicle research project. (See Reference [1], [2], [3])</i>"
   ]
  },
  {
   "cell_type": "markdown",
   "id": "ad7818d7",
   "metadata": {},
   "source": [
    "<i>Your Feedback is important for Jingze's further development. If you want to give feedback and suggestions, or you want to participate in working and learning together, please email Jingze at dai.jingze@icloud.com. If you want Jingze to provide contributions to your research or opensource project or you want Jingze to help you with any programming issues, please email Jingze at david1147062956@gmail.com. Thank you for your help.</i>"
   ]
  },
  {
   "cell_type": "markdown",
   "id": "aac28e51",
   "metadata": {},
   "source": [
    "## Table of Contents:\n",
    "* [Section 1: Extract and Load Datasets](#first-bullet)\n",
    "* [Section 2: Comprehensive Data Observations](#second-bullet)\n",
    "* [Section 3: Data Preprocessing (Data Cleaning)](#third-bullet)\n",
    "* [Section 4: Feature Detection](#bullet4)\n",
    "* [Section 5.1: Classification (Binary Classification Approach (BCA))](#bullet5-1)\n",
    "* [Section 5.2: Classification (A Multi-class Classification Approach for Three Classes (MCATC))](#bullet5-2)\n",
    "* [Section 5.3: Classification (A Classic Learning Approach for Multi-class classification (C-LAMC))](#bullet5-3)\n",
    "* [Section 5.4: Classification (A Guided Learning Approach for Multi-class Classification (G-LAMC))](#bullet5-4)\n",
    "* [Bibilography](#bib)"
   ]
  },
  {
   "cell_type": "markdown",
   "id": "3535f4a5",
   "metadata": {},
   "source": [
    "### <a class=\"anchor\" id=\"first-bullet\"><b>Section 1</b>: Extract and Load Datasets</a>"
   ]
  },
  {
   "cell_type": "markdown",
   "id": "4cf193d0",
   "metadata": {},
   "source": [
    "The first step is to install all necessary packages and libraries."
   ]
  },
  {
   "cell_type": "code",
   "execution_count": 1,
   "id": "87891386",
   "metadata": {},
   "outputs": [
    {
     "name": "stdout",
     "output_type": "stream",
     "text": [
      "Requirement already satisfied: gdown in c:\\users\\david\\anaconda3\\lib\\site-packages (5.0.1)\n",
      "Requirement already satisfied: filelock in c:\\users\\david\\anaconda3\\lib\\site-packages (from gdown) (3.6.0)\n",
      "Requirement already satisfied: requests[socks] in c:\\users\\david\\anaconda3\\lib\\site-packages (from gdown) (2.28.1)\n",
      "Requirement already satisfied: beautifulsoup4 in c:\\users\\david\\anaconda3\\lib\\site-packages (from gdown) (4.11.1)\n",
      "Requirement already satisfied: tqdm in c:\\users\\david\\anaconda3\\lib\\site-packages (from gdown) (4.64.1)\n",
      "Requirement already satisfied: soupsieve>1.2 in c:\\users\\david\\anaconda3\\lib\\site-packages (from beautifulsoup4->gdown) (2.3.1)\n",
      "Requirement already satisfied: charset-normalizer<3,>=2 in c:\\users\\david\\anaconda3\\lib\\site-packages (from requests[socks]->gdown) (2.0.4)\n",
      "Requirement already satisfied: certifi>=2017.4.17 in c:\\users\\david\\anaconda3\\lib\\site-packages (from requests[socks]->gdown) (2022.9.14)\n",
      "Requirement already satisfied: idna<4,>=2.5 in c:\\users\\david\\anaconda3\\lib\\site-packages (from requests[socks]->gdown) (3.3)\n",
      "Requirement already satisfied: urllib3<1.27,>=1.21.1 in c:\\users\\david\\anaconda3\\lib\\site-packages (from requests[socks]->gdown) (1.26.11)\n",
      "Requirement already satisfied: PySocks!=1.5.7,>=1.5.6 in c:\\users\\david\\anaconda3\\lib\\site-packages (from requests[socks]->gdown) (1.7.1)\n",
      "Requirement already satisfied: colorama in c:\\users\\david\\anaconda3\\lib\\site-packages (from tqdm->gdown) (0.4.5)\n",
      "Note: you may need to restart the kernel to use updated packages.\n"
     ]
    }
   ],
   "source": [
    "pip install gdown"
   ]
  },
  {
   "cell_type": "code",
   "execution_count": 2,
   "id": "5c2b2e10",
   "metadata": {},
   "outputs": [
    {
     "name": "stdout",
     "output_type": "stream",
     "text": [
      "Requirement already satisfied: tensorflow in c:\\users\\david\\appdata\\roaming\\python\\python39\\site-packages (2.16.1)\n",
      "Requirement already satisfied: tensorflow-intel==2.16.1 in c:\\users\\david\\appdata\\roaming\\python\\python39\\site-packages (from tensorflow) (2.16.1)\n",
      "Requirement already satisfied: packaging in c:\\users\\david\\anaconda3\\lib\\site-packages (from tensorflow-intel==2.16.1->tensorflow) (21.3)\n",
      "Requirement already satisfied: tensorflow-io-gcs-filesystem>=0.23.1 in c:\\users\\david\\anaconda3\\lib\\site-packages (from tensorflow-intel==2.16.1->tensorflow) (0.31.0)\n",
      "Requirement already satisfied: grpcio<2.0,>=1.24.3 in c:\\users\\david\\anaconda3\\lib\\site-packages (from tensorflow-intel==2.16.1->tensorflow) (1.62.0)\n",
      "Requirement already satisfied: tensorboard<2.17,>=2.16 in c:\\users\\david\\anaconda3\\lib\\site-packages (from tensorflow-intel==2.16.1->tensorflow) (2.16.2)\n",
      "Requirement already satisfied: keras>=3.0.0 in c:\\users\\david\\appdata\\roaming\\python\\python39\\site-packages (from tensorflow-intel==2.16.1->tensorflow) (3.2.1)\n",
      "Requirement already satisfied: libclang>=13.0.0 in c:\\users\\david\\anaconda3\\lib\\site-packages (from tensorflow-intel==2.16.1->tensorflow) (16.0.6)\n",
      "Requirement already satisfied: h5py>=3.10.0 in c:\\users\\david\\appdata\\roaming\\python\\python39\\site-packages (from tensorflow-intel==2.16.1->tensorflow) (3.11.0)\n",
      "Requirement already satisfied: numpy<2.0.0,>=1.23.5 in c:\\users\\david\\anaconda3\\lib\\site-packages (from tensorflow-intel==2.16.1->tensorflow) (1.24.4)\n",
      "Requirement already satisfied: setuptools in c:\\users\\david\\anaconda3\\lib\\site-packages (from tensorflow-intel==2.16.1->tensorflow) (63.4.1)\n",
      "Requirement already satisfied: termcolor>=1.1.0 in c:\\users\\david\\anaconda3\\lib\\site-packages (from tensorflow-intel==2.16.1->tensorflow) (2.4.0)\n",
      "Requirement already satisfied: wrapt>=1.11.0 in c:\\users\\david\\anaconda3\\lib\\site-packages (from tensorflow-intel==2.16.1->tensorflow) (1.14.1)\n",
      "Requirement already satisfied: astunparse>=1.6.0 in c:\\users\\david\\anaconda3\\lib\\site-packages (from tensorflow-intel==2.16.1->tensorflow) (1.6.3)\n",
      "Requirement already satisfied: protobuf!=4.21.0,!=4.21.1,!=4.21.2,!=4.21.3,!=4.21.4,!=4.21.5,<5.0.0dev,>=3.20.3 in c:\\users\\david\\anaconda3\\lib\\site-packages (from tensorflow-intel==2.16.1->tensorflow) (4.25.3)\n",
      "Requirement already satisfied: flatbuffers>=23.5.26 in c:\\users\\david\\anaconda3\\lib\\site-packages (from tensorflow-intel==2.16.1->tensorflow) (23.5.26)\n",
      "Requirement already satisfied: opt-einsum>=2.3.2 in c:\\users\\david\\anaconda3\\lib\\site-packages (from tensorflow-intel==2.16.1->tensorflow) (3.3.0)\n",
      "Requirement already satisfied: six>=1.12.0 in c:\\users\\david\\anaconda3\\lib\\site-packages (from tensorflow-intel==2.16.1->tensorflow) (1.16.0)\n",
      "Requirement already satisfied: typing-extensions>=3.6.6 in c:\\users\\david\\anaconda3\\lib\\site-packages (from tensorflow-intel==2.16.1->tensorflow) (4.3.0)\n",
      "Requirement already satisfied: gast!=0.5.0,!=0.5.1,!=0.5.2,>=0.2.1 in c:\\users\\david\\anaconda3\\lib\\site-packages (from tensorflow-intel==2.16.1->tensorflow) (0.5.4)\n",
      "Requirement already satisfied: google-pasta>=0.1.1 in c:\\users\\david\\anaconda3\\lib\\site-packages (from tensorflow-intel==2.16.1->tensorflow) (0.2.0)\n",
      "Requirement already satisfied: ml-dtypes~=0.3.1 in c:\\users\\david\\anaconda3\\lib\\site-packages (from tensorflow-intel==2.16.1->tensorflow) (0.3.2)\n",
      "Requirement already satisfied: absl-py>=1.0.0 in c:\\users\\david\\anaconda3\\lib\\site-packages (from tensorflow-intel==2.16.1->tensorflow) (2.1.0)\n",
      "Requirement already satisfied: requests<3,>=2.21.0 in c:\\users\\david\\anaconda3\\lib\\site-packages (from tensorflow-intel==2.16.1->tensorflow) (2.28.1)\n",
      "Requirement already satisfied: wheel<1.0,>=0.23.0 in c:\\users\\david\\anaconda3\\lib\\site-packages (from astunparse>=1.6.0->tensorflow-intel==2.16.1->tensorflow) (0.37.1)\n",
      "Requirement already satisfied: namex in c:\\users\\david\\anaconda3\\lib\\site-packages (from keras>=3.0.0->tensorflow-intel==2.16.1->tensorflow) (0.0.7)\n",
      "Requirement already satisfied: rich in c:\\users\\david\\appdata\\roaming\\python\\python39\\site-packages (from keras>=3.0.0->tensorflow-intel==2.16.1->tensorflow) (13.7.1)\n",
      "Requirement already satisfied: optree in c:\\users\\david\\anaconda3\\lib\\site-packages (from keras>=3.0.0->tensorflow-intel==2.16.1->tensorflow) (0.11.0)\n",
      "Requirement already satisfied: certifi>=2017.4.17 in c:\\users\\david\\anaconda3\\lib\\site-packages (from requests<3,>=2.21.0->tensorflow-intel==2.16.1->tensorflow) (2022.9.14)\n",
      "Requirement already satisfied: charset-normalizer<3,>=2 in c:\\users\\david\\anaconda3\\lib\\site-packages (from requests<3,>=2.21.0->tensorflow-intel==2.16.1->tensorflow) (2.0.4)\n",
      "Requirement already satisfied: urllib3<1.27,>=1.21.1 in c:\\users\\david\\anaconda3\\lib\\site-packages (from requests<3,>=2.21.0->tensorflow-intel==2.16.1->tensorflow) (1.26.11)\n",
      "Requirement already satisfied: idna<4,>=2.5 in c:\\users\\david\\anaconda3\\lib\\site-packages (from requests<3,>=2.21.0->tensorflow-intel==2.16.1->tensorflow) (3.3)\n",
      "Requirement already satisfied: werkzeug>=1.0.1 in c:\\users\\david\\anaconda3\\lib\\site-packages (from tensorboard<2.17,>=2.16->tensorflow-intel==2.16.1->tensorflow) (2.0.3)\n",
      "Requirement already satisfied: tensorboard-data-server<0.8.0,>=0.7.0 in c:\\users\\david\\anaconda3\\lib\\site-packages (from tensorboard<2.17,>=2.16->tensorflow-intel==2.16.1->tensorflow) (0.7.2)\n",
      "Requirement already satisfied: markdown>=2.6.8 in c:\\users\\david\\anaconda3\\lib\\site-packages (from tensorboard<2.17,>=2.16->tensorflow-intel==2.16.1->tensorflow) (3.3.4)\n",
      "Requirement already satisfied: pyparsing!=3.0.5,>=2.0.2 in c:\\users\\david\\anaconda3\\lib\\site-packages (from packaging->tensorflow-intel==2.16.1->tensorflow) (3.0.9)\n",
      "Requirement already satisfied: pygments<3.0.0,>=2.13.0 in c:\\users\\david\\anaconda3\\lib\\site-packages (from rich->keras>=3.0.0->tensorflow-intel==2.16.1->tensorflow) (2.17.2)\n",
      "Requirement already satisfied: markdown-it-py>=2.2.0 in c:\\users\\david\\appdata\\roaming\\python\\python39\\site-packages (from rich->keras>=3.0.0->tensorflow-intel==2.16.1->tensorflow) (3.0.0)\n",
      "Requirement already satisfied: mdurl~=0.1 in c:\\users\\david\\appdata\\roaming\\python\\python39\\site-packages (from markdown-it-py>=2.2.0->rich->keras>=3.0.0->tensorflow-intel==2.16.1->tensorflow) (0.1.2)\n",
      "Note: you may need to restart the kernel to use updated packages.\n"
     ]
    }
   ],
   "source": [
    "pip install tensorflow"
   ]
  },
  {
   "cell_type": "code",
   "execution_count": 3,
   "id": "0b4c51bc",
   "metadata": {},
   "outputs": [
    {
     "name": "stdout",
     "output_type": "stream",
     "text": [
      "Requirement already satisfied: tensorflow in c:\\users\\david\\appdata\\roaming\\python\\python39\\site-packages (2.16.1)\n",
      "Requirement already satisfied: tensorflow-intel==2.16.1 in c:\\users\\david\\appdata\\roaming\\python\\python39\\site-packages (from tensorflow) (2.16.1)\n",
      "Requirement already satisfied: keras>=3.0.0 in c:\\users\\david\\appdata\\roaming\\python\\python39\\site-packages (from tensorflow-intel==2.16.1->tensorflow) (3.2.1)\n",
      "Requirement already satisfied: protobuf!=4.21.0,!=4.21.1,!=4.21.2,!=4.21.3,!=4.21.4,!=4.21.5,<5.0.0dev,>=3.20.3 in c:\\users\\david\\anaconda3\\lib\\site-packages (from tensorflow-intel==2.16.1->tensorflow) (4.25.3)\n",
      "Requirement already satisfied: typing-extensions>=3.6.6 in c:\\users\\david\\anaconda3\\lib\\site-packages (from tensorflow-intel==2.16.1->tensorflow) (4.3.0)\n",
      "Requirement already satisfied: wrapt>=1.11.0 in c:\\users\\david\\anaconda3\\lib\\site-packages (from tensorflow-intel==2.16.1->tensorflow) (1.14.1)\n",
      "Requirement already satisfied: absl-py>=1.0.0 in c:\\users\\david\\anaconda3\\lib\\site-packages (from tensorflow-intel==2.16.1->tensorflow) (2.1.0)\n",
      "Requirement already satisfied: ml-dtypes~=0.3.1 in c:\\users\\david\\anaconda3\\lib\\site-packages (from tensorflow-intel==2.16.1->tensorflow) (0.3.2)\n",
      "Requirement already satisfied: numpy<2.0.0,>=1.23.5 in c:\\users\\david\\anaconda3\\lib\\site-packages (from tensorflow-intel==2.16.1->tensorflow) (1.24.4)\n",
      "Requirement already satisfied: h5py>=3.10.0 in c:\\users\\david\\appdata\\roaming\\python\\python39\\site-packages (from tensorflow-intel==2.16.1->tensorflow) (3.11.0)\n",
      "Requirement already satisfied: packaging in c:\\users\\david\\anaconda3\\lib\\site-packages (from tensorflow-intel==2.16.1->tensorflow) (21.3)\n",
      "Requirement already satisfied: six>=1.12.0 in c:\\users\\david\\anaconda3\\lib\\site-packages (from tensorflow-intel==2.16.1->tensorflow) (1.16.0)\n",
      "Requirement already satisfied: gast!=0.5.0,!=0.5.1,!=0.5.2,>=0.2.1 in c:\\users\\david\\anaconda3\\lib\\site-packages (from tensorflow-intel==2.16.1->tensorflow) (0.5.4)\n",
      "Requirement already satisfied: grpcio<2.0,>=1.24.3 in c:\\users\\david\\anaconda3\\lib\\site-packages (from tensorflow-intel==2.16.1->tensorflow) (1.62.0)\n",
      "Requirement already satisfied: libclang>=13.0.0 in c:\\users\\david\\anaconda3\\lib\\site-packages (from tensorflow-intel==2.16.1->tensorflow) (16.0.6)\n",
      "Requirement already satisfied: opt-einsum>=2.3.2 in c:\\users\\david\\anaconda3\\lib\\site-packages (from tensorflow-intel==2.16.1->tensorflow) (3.3.0)\n",
      "Requirement already satisfied: tensorflow-io-gcs-filesystem>=0.23.1 in c:\\users\\david\\anaconda3\\lib\\site-packages (from tensorflow-intel==2.16.1->tensorflow) (0.31.0)\n",
      "Requirement already satisfied: astunparse>=1.6.0 in c:\\users\\david\\anaconda3\\lib\\site-packages (from tensorflow-intel==2.16.1->tensorflow) (1.6.3)\n",
      "Requirement already satisfied: setuptools in c:\\users\\david\\anaconda3\\lib\\site-packages (from tensorflow-intel==2.16.1->tensorflow) (63.4.1)\n",
      "Requirement already satisfied: requests<3,>=2.21.0 in c:\\users\\david\\anaconda3\\lib\\site-packages (from tensorflow-intel==2.16.1->tensorflow) (2.28.1)\n",
      "Requirement already satisfied: tensorboard<2.17,>=2.16 in c:\\users\\david\\anaconda3\\lib\\site-packages (from tensorflow-intel==2.16.1->tensorflow) (2.16.2)\n",
      "Requirement already satisfied: termcolor>=1.1.0 in c:\\users\\david\\anaconda3\\lib\\site-packages (from tensorflow-intel==2.16.1->tensorflow) (2.4.0)\n",
      "Requirement already satisfied: google-pasta>=0.1.1 in c:\\users\\david\\anaconda3\\lib\\site-packages (from tensorflow-intel==2.16.1->tensorflow) (0.2.0)\n",
      "Requirement already satisfied: flatbuffers>=23.5.26 in c:\\users\\david\\anaconda3\\lib\\site-packages (from tensorflow-intel==2.16.1->tensorflow) (23.5.26)\n",
      "Requirement already satisfied: wheel<1.0,>=0.23.0 in c:\\users\\david\\anaconda3\\lib\\site-packages (from astunparse>=1.6.0->tensorflow-intel==2.16.1->tensorflow) (0.37.1)\n",
      "Requirement already satisfied: namex in c:\\users\\david\\anaconda3\\lib\\site-packages (from keras>=3.0.0->tensorflow-intel==2.16.1->tensorflow) (0.0.7)\n",
      "Requirement already satisfied: optree in c:\\users\\david\\anaconda3\\lib\\site-packages (from keras>=3.0.0->tensorflow-intel==2.16.1->tensorflow) (0.11.0)\n",
      "Requirement already satisfied: rich in c:\\users\\david\\appdata\\roaming\\python\\python39\\site-packages (from keras>=3.0.0->tensorflow-intel==2.16.1->tensorflow) (13.7.1)\n",
      "Requirement already satisfied: idna<4,>=2.5 in c:\\users\\david\\anaconda3\\lib\\site-packages (from requests<3,>=2.21.0->tensorflow-intel==2.16.1->tensorflow) (3.3)\n",
      "Requirement already satisfied: certifi>=2017.4.17 in c:\\users\\david\\anaconda3\\lib\\site-packages (from requests<3,>=2.21.0->tensorflow-intel==2.16.1->tensorflow) (2022.9.14)\n",
      "Requirement already satisfied: urllib3<1.27,>=1.21.1 in c:\\users\\david\\anaconda3\\lib\\site-packages (from requests<3,>=2.21.0->tensorflow-intel==2.16.1->tensorflow) (1.26.11)\n",
      "Requirement already satisfied: charset-normalizer<3,>=2 in c:\\users\\david\\anaconda3\\lib\\site-packages (from requests<3,>=2.21.0->tensorflow-intel==2.16.1->tensorflow) (2.0.4)\n",
      "Requirement already satisfied: tensorboard-data-server<0.8.0,>=0.7.0 in c:\\users\\david\\anaconda3\\lib\\site-packages (from tensorboard<2.17,>=2.16->tensorflow-intel==2.16.1->tensorflow) (0.7.2)\n",
      "Requirement already satisfied: markdown>=2.6.8 in c:\\users\\david\\anaconda3\\lib\\site-packages (from tensorboard<2.17,>=2.16->tensorflow-intel==2.16.1->tensorflow) (3.3.4)\n",
      "Requirement already satisfied: werkzeug>=1.0.1 in c:\\users\\david\\anaconda3\\lib\\site-packages (from tensorboard<2.17,>=2.16->tensorflow-intel==2.16.1->tensorflow) (2.0.3)\n",
      "Requirement already satisfied: pyparsing!=3.0.5,>=2.0.2 in c:\\users\\david\\anaconda3\\lib\\site-packages (from packaging->tensorflow-intel==2.16.1->tensorflow) (3.0.9)\n",
      "Requirement already satisfied: pygments<3.0.0,>=2.13.0 in c:\\users\\david\\anaconda3\\lib\\site-packages (from rich->keras>=3.0.0->tensorflow-intel==2.16.1->tensorflow) (2.17.2)\n",
      "Requirement already satisfied: markdown-it-py>=2.2.0 in c:\\users\\david\\appdata\\roaming\\python\\python39\\site-packages (from rich->keras>=3.0.0->tensorflow-intel==2.16.1->tensorflow) (3.0.0)\n",
      "Requirement already satisfied: mdurl~=0.1 in c:\\users\\david\\appdata\\roaming\\python\\python39\\site-packages (from markdown-it-py>=2.2.0->rich->keras>=3.0.0->tensorflow-intel==2.16.1->tensorflow) (0.1.2)\n",
      "Note: you may need to restart the kernel to use updated packages.\n"
     ]
    }
   ],
   "source": [
    "pip install --upgrade tensorflow --user"
   ]
  },
  {
   "cell_type": "code",
   "execution_count": 4,
   "id": "8220a8f7",
   "metadata": {},
   "outputs": [
    {
     "name": "stdout",
     "output_type": "stream",
     "text": [
      "Requirement already satisfied: numpy==1.24.4 in c:\\users\\david\\anaconda3\\lib\\site-packages (1.24.4)\n",
      "Note: you may need to restart the kernel to use updated packages.\n"
     ]
    }
   ],
   "source": [
    "pip install --user numpy==1.24.4"
   ]
  },
  {
   "cell_type": "code",
   "execution_count": 5,
   "id": "cd75c0c1",
   "metadata": {},
   "outputs": [
    {
     "name": "stdout",
     "output_type": "stream",
     "text": [
      "Requirement already satisfied: scipy in c:\\users\\david\\anaconda3\\lib\\site-packages (1.13.0)\n",
      "Requirement already satisfied: numpy<2.3,>=1.22.4 in c:\\users\\david\\anaconda3\\lib\\site-packages (from scipy) (1.24.4)\n",
      "Note: you may need to restart the kernel to use updated packages.\n"
     ]
    }
   ],
   "source": [
    "pip install --upgrade scipy"
   ]
  },
  {
   "cell_type": "markdown",
   "id": "47d6b1a4",
   "metadata": {},
   "source": [
    "<p>There are two methods to download the package, choose one of them to download the dataset: </p>\n",
    "<p><b>Method 1</b>: Using gdown commands (Sometimes with errors)</p>"
   ]
  },
  {
   "cell_type": "markdown",
   "id": "ff211944",
   "metadata": {},
   "source": [
    "<p>Here we download the CSV VANETs dataset file from remote google drive, and savce it in your local computer's download folder. </p>\n",
    "The <b>correct</b> dataset name is \"mixalldata_clean.csv\"."
   ]
  },
  {
   "cell_type": "code",
   "execution_count": 6,
   "id": "c7cc31ed",
   "metadata": {
    "scrolled": false
   },
   "outputs": [
    {
     "name": "stderr",
     "output_type": "stream",
     "text": [
      "Downloading...\n",
      "From (original): https://drive.google.com/uc?id=1mbQUfSEe2EU2sh40Q1Q0KiZD-k7vRuU9\n",
      "From (redirected): https://drive.google.com/uc?id=1mbQUfSEe2EU2sh40Q1Q0KiZD-k7vRuU9&confirm=t&uuid=86943d81-a306-40ba-b10d-2d915919b913\n",
      "To: C:\\Users\\david\\Downloads\\mixalldata_clean.csv\n",
      "100%|█████████████████████████████████████████████████████████████████████████████| 1.21G/1.21G [00:27<00:00, 43.7MB/s]\n"
     ]
    },
    {
     "data": {
      "text/plain": [
       "'mixalldata_clean.csv'"
      ]
     },
     "execution_count": 6,
     "metadata": {},
     "output_type": "execute_result"
    }
   ],
   "source": [
    "import pandas as pd\n",
    "import gdown\n",
    "\n",
    "# Replace 'YOUR_FILE_ID' with the actual file ID\n",
    "file_id = '1mbQUfSEe2EU2sh40Q1Q0KiZD-k7vRuU9'\n",
    "\n",
    "# Construct the download link\n",
    "file_url = f'https://drive.google.com/uc?id={file_id}'\n",
    "\n",
    "# Use gdown to download the file\n",
    "output_file = 'mixalldata_clean.csv'\n",
    "gdown.download(file_url, output_file, quiet=False)"
   ]
  },
  {
   "cell_type": "markdown",
   "id": "1b1f9d68",
   "metadata": {},
   "source": [
    "<p><b>Method 2</b>: Direct downloading from sources</p>\n",
    "At first, go to the webpage <a href=\"https://data.mendeley.com/datasets/k62n4z9gdz/1\">Dataset for Misbehaviors in VANETs</a>.\n",
    "Then click the button \"Download All 314 MB\". Then de-compress this compressed folder."
   ]
  },
  {
   "cell_type": "markdown",
   "id": "d8a60550",
   "metadata": {},
   "source": [
    "<b>Expected Outcome</b>\n",
    "<p>After downloading the dataset, to have a good double check, the program below prints out the first 5 records inside.</p>"
   ]
  },
  {
   "cell_type": "code",
   "execution_count": 7,
   "id": "c1b42c46",
   "metadata": {},
   "outputs": [
    {
     "name": "stdout",
     "output_type": "stream",
     "text": [
      "   type      sendTime  sender  senderPseudo  messageID  class        posx  \\\n",
      "0     4  72002.302942  130137     101301377  422013806      0  266.982401   \n",
      "1     4  72003.302942  130137     101301377  422023410      0  266.827208   \n",
      "2     4  72004.302942  130137     101301377  422032081      0  266.420297   \n",
      "3     4  72005.302942  130137     101301377  422040712      0  268.912026   \n",
      "4     4  72006.302942  130137     101301377  422052949      0  268.242276   \n",
      "\n",
      "        posy  posz    posx_n  ...  aclz    aclx_n    acly_n  aclz_n      hedx  \\\n",
      "0  32.336955   0.0  3.480882  ...   0.0  0.000862  0.000862     0.0 -0.102790   \n",
      "1  34.624145   0.0  3.546261  ...   0.0  0.000107  0.001040     0.0 -0.099856   \n",
      "2  38.836461   0.0  3.544045  ...   0.0  0.000172  0.001661     0.0 -0.099856   \n",
      "3  45.414229   0.0  3.340080  ...   0.0  0.000171  0.001654     0.0 -0.100172   \n",
      "4  53.729986   0.0  3.328872  ...   0.0  0.000193  0.001852     0.0 -0.097105   \n",
      "\n",
      "       hedy  hedz     hedx_n     hedy_n  hedz_n  \n",
      "0  0.994703   0.0  20.038218  17.541001     0.0  \n",
      "1  0.995002   0.0  20.441139  14.467283     0.0  \n",
      "2  0.995002   0.0  20.850473  11.941528     0.0  \n",
      "3  0.994970   0.0  21.323229   9.633965     0.0  \n",
      "4  0.995274   0.0  21.788034   7.824555     0.0  \n",
      "\n",
      "[5 rows x 30 columns]\n"
     ]
    }
   ],
   "source": [
    "import pandas as pd\n",
    "import gdown\n",
    "\n",
    "# Load the dataset\n",
    "output_file = 'mixalldata_clean.csv'\n",
    "df = pd.read_csv(output_file)\n",
    "\n",
    "# Display the DataFrame\n",
    "print(df.head())"
   ]
  },
  {
   "cell_type": "markdown",
   "id": "afffb71b",
   "metadata": {},
   "source": [
    "<b>Important: before completing later sections, please run all of this section programs in order to prevent possible errors.</b>"
   ]
  },
  {
   "cell_type": "markdown",
   "id": "3a851d74",
   "metadata": {},
   "source": [
    "### <a class=\"anchor\" id=\"second-bullet\"><b>Section 2</b>: Comprehensive Data Observations</a>"
   ]
  },
  {
   "cell_type": "markdown",
   "id": "094524c5",
   "metadata": {},
   "source": [
    "<p>There are 30 attributes and 1048575 records in this dataset, and there is no empty values in each field.</p>\n",
    "<p>These attributes are: `type`, `sendTime`, `sender`, `senderPseudo`, `messageID`, `class`, `posx`, `posy`, `posz`, `posx_n`, `posy_n`, `posz_n`, `spdx`, `spdy`, `spdz`, `spdx_n`, `spdy_n`, `spdz_n`, `aclx`, `acly`, `aclz`, `aclx_n`, `acly_n`, `aclz_n`, `hedx`, `hedy`, `hedz`, `hedx_n`, `hedy_n`, `hedz_n`</p>\n",
    "<br>\n",
    "<p>`type`: verhicle type (<b>Confused</b>, because it may be message types)</p>\n",
    "<p>`sendTime`: time this message was sent</p>\n",
    "<p>`sender`: id of the message sender (this sender id may have unique values)</p>\n",
    "<p>`senderPseudo`: pseudonym of the message sender</p>\n",
    "<p>`messageID`: each message's identifier (has unique values)</p>\n",
    "<p>`class`: behavior or misbehavior outcomes</p>\n",
    "<br>\n",
    "<b>Hidden Information</b>\n",
    "<ol>\n",
    "    <li>From Physics, we know that the given information about positions, speeds, and accelerations have already shown directions. Their inconsistencies with heading positions may indicate misbehaviors.</li>\n",
    "</ol>"
   ]
  },
  {
   "cell_type": "markdown",
   "id": "682628b3",
   "metadata": {},
   "source": [
    "<p>Here are all columns' data types (<b>int64</b>: 64-bit signed integer, and <b>float64</b>: 64-bit signed floating-point number):</p>"
   ]
  },
  {
   "cell_type": "code",
   "execution_count": 7,
   "id": "b06ecfbc",
   "metadata": {
    "scrolled": true
   },
   "outputs": [
    {
     "name": "stdout",
     "output_type": "stream",
     "text": [
      "Data types:\n",
      "type              int64\n",
      "sendTime        float64\n",
      "sender            int64\n",
      "senderPseudo      int64\n",
      "messageID         int64\n",
      "class             int64\n",
      "posx            float64\n",
      "posy            float64\n",
      "posz            float64\n",
      "posx_n          float64\n",
      "posy_n          float64\n",
      "posz_n          float64\n",
      "spdx            float64\n",
      "spdy            float64\n",
      "spdz            float64\n",
      "spdx_n          float64\n",
      "spdy_n          float64\n",
      "spdz_n          float64\n",
      "aclx            float64\n",
      "acly            float64\n",
      "aclz            float64\n",
      "aclx_n          float64\n",
      "acly_n          float64\n",
      "aclz_n          float64\n",
      "hedx            float64\n",
      "hedy            float64\n",
      "hedz            float64\n",
      "hedx_n          float64\n",
      "hedy_n          float64\n",
      "hedz_n          float64\n",
      "dtype: object\n"
     ]
    }
   ],
   "source": [
    "# apply the dtype attribute\n",
    "data_types = df.dtypes\n",
    "\n",
    "print(\"Data types:\")\n",
    "print(data_types)"
   ]
  },
  {
   "cell_type": "markdown",
   "id": "16b198bc",
   "metadata": {},
   "source": [
    "### <a class=\"anchor\" id=\"third-bullet\"><p><b>Section 3</b>: Data Preprocessing (Data Cleaning)</p></a>"
   ]
  },
  {
   "cell_type": "markdown",
   "id": "b981ec74",
   "metadata": {},
   "source": [
    "<i>The provided dataset \"mixalldata_clean.csv\" is already data-cleanned. However, data cleaning processes are still executed below.</i>"
   ]
  },
  {
   "cell_type": "markdown",
   "id": "8e071940",
   "metadata": {},
   "source": [
    "<p><b>Potential Problem 1</b>: unnamed columns -> <b>Does Not Exist</b>, by observation, all 30 column have valid names.</p>\n",
    "<p><b>Potential Problem 2</b>: existence of null values.</p>"
   ]
  },
  {
   "cell_type": "code",
   "execution_count": 8,
   "id": "8f658c9b",
   "metadata": {},
   "outputs": [
    {
     "name": "stdout",
     "output_type": "stream",
     "text": [
      "          type  sendTime  sender  senderPseudo  messageID  class   posx  \\\n",
      "0        False     False   False         False      False  False  False   \n",
      "1        False     False   False         False      False  False  False   \n",
      "2        False     False   False         False      False  False  False   \n",
      "3        False     False   False         False      False  False  False   \n",
      "4        False     False   False         False      False  False  False   \n",
      "...        ...       ...     ...           ...        ...    ...    ...   \n",
      "3194803  False     False   False         False      False  False  False   \n",
      "3194804  False     False   False         False      False  False  False   \n",
      "3194805  False     False   False         False      False  False  False   \n",
      "3194806  False     False   False         False      False  False  False   \n",
      "3194807  False     False   False         False      False  False  False   \n",
      "\n",
      "          posy   posz  posx_n  ...   aclz  aclx_n  acly_n  aclz_n   hedx  \\\n",
      "0        False  False   False  ...  False   False   False   False  False   \n",
      "1        False  False   False  ...  False   False   False   False  False   \n",
      "2        False  False   False  ...  False   False   False   False  False   \n",
      "3        False  False   False  ...  False   False   False   False  False   \n",
      "4        False  False   False  ...  False   False   False   False  False   \n",
      "...        ...    ...     ...  ...    ...     ...     ...     ...    ...   \n",
      "3194803  False  False   False  ...  False   False   False   False  False   \n",
      "3194804  False  False   False  ...  False   False   False   False  False   \n",
      "3194805  False  False   False  ...  False   False   False   False  False   \n",
      "3194806  False  False   False  ...  False   False   False   False  False   \n",
      "3194807  False  False   False  ...  False   False   False   False  False   \n",
      "\n",
      "          hedy   hedz  hedx_n  hedy_n  hedz_n  \n",
      "0        False  False   False   False   False  \n",
      "1        False  False   False   False   False  \n",
      "2        False  False   False   False   False  \n",
      "3        False  False   False   False   False  \n",
      "4        False  False   False   False   False  \n",
      "...        ...    ...     ...     ...     ...  \n",
      "3194803  False  False   False   False   False  \n",
      "3194804  False  False   False   False   False  \n",
      "3194805  False  False   False   False   False  \n",
      "3194806  False  False   False   False   False  \n",
      "3194807  False  False   False   False   False  \n",
      "\n",
      "[3194808 rows x 30 columns]\n"
     ]
    }
   ],
   "source": [
    "# At first, display the check on each value is null or not.\n",
    "null_df = df.isnull()\n",
    "print(null_df)"
   ]
  },
  {
   "cell_type": "code",
   "execution_count": 9,
   "id": "f836be8b",
   "metadata": {},
   "outputs": [
    {
     "name": "stdout",
     "output_type": "stream",
     "text": [
      "type            0\n",
      "sendTime        0\n",
      "sender          0\n",
      "senderPseudo    0\n",
      "messageID       0\n",
      "class           0\n",
      "posx            0\n",
      "posy            0\n",
      "posz            0\n",
      "posx_n          0\n",
      "posy_n          0\n",
      "posz_n          0\n",
      "spdx            0\n",
      "spdy            0\n",
      "spdz            0\n",
      "spdx_n          0\n",
      "spdy_n          0\n",
      "spdz_n          0\n",
      "aclx            0\n",
      "acly            0\n",
      "aclz            0\n",
      "aclx_n          0\n",
      "acly_n          0\n",
      "aclz_n          0\n",
      "hedx            0\n",
      "hedy            0\n",
      "hedz            0\n",
      "hedx_n          0\n",
      "hedy_n          0\n",
      "hedz_n          0\n",
      "dtype: int64\n"
     ]
    }
   ],
   "source": [
    "# Secondly, check how many null values on each column, and display their counts.\n",
    "null_val_count = df.isna().sum()\n",
    "print(null_val_count)"
   ]
  },
  {
   "cell_type": "markdown",
   "id": "59816860",
   "metadata": {},
   "source": [
    "<p>As you can see, this dataset does not have null values, so there is nothing to do with null value removing.</p>\n",
    "\n",
    "<p><b>Potential Problem 3</b>: Wrong-Format Data -> <b>Does Not Exist</b>, by observation, all 30 column have valid types, and their values are consistent with these mentioned types. There is no need to convert them.</p>\n",
    "\n",
    "<p><b>Potential Problem 4</b>: Data with inappropriate values -> <b>Does Not Exist</b>, because the range and other constraints have not been given.</p>\n",
    "\n",
    "<p><b>Potential Problem 5</b>: Duplicate Rows -> <b>Does Not Exist</b>, by observation, there is no repeated rows (comparing all values).</p>"
   ]
  },
  {
   "cell_type": "code",
   "execution_count": 10,
   "id": "b5ab8c38",
   "metadata": {},
   "outputs": [
    {
     "name": "stdout",
     "output_type": "stream",
     "text": [
      "Total Records Duplications: 0\n"
     ]
    }
   ],
   "source": [
    "# Find the total amount of duplicate records\n",
    "duplicate_record = df.duplicated().sum()\n",
    "\n",
    "print(\"Total Records Duplications: \" + str(duplicate_record))"
   ]
  },
  {
   "cell_type": "markdown",
   "id": "13767dae",
   "metadata": {},
   "source": [
    "<p>Seems like no rows are repeated, then I check each column, and I found that only the column \"messageID\" needs to have unique values (since they are identifiers). While other columns, accept repetitions on values.</p>"
   ]
  },
  {
   "cell_type": "code",
   "execution_count": 11,
   "id": "6d3819b6",
   "metadata": {},
   "outputs": [
    {
     "name": "stdout",
     "output_type": "stream",
     "text": [
      "Duplicated messageID Rows: 0\n"
     ]
    }
   ],
   "source": [
    "# Find the total amount of records with duplicate \"messageID\"\n",
    "duplicate_rows = df.duplicated(subset=['messageID']).sum()\n",
    "\n",
    "print(\"Duplicated messageID Rows: \" + str(duplicate_rows))"
   ]
  },
  {
   "cell_type": "markdown",
   "id": "313a1b60",
   "metadata": {},
   "source": [
    "### <a class=\"anchor\" id=\"bullet4\"><p><b>Section 4</b>: Feature Detection</p></a>"
   ]
  },
  {
   "cell_type": "markdown",
   "id": "1cf86620",
   "metadata": {},
   "source": [
    "<p>In this section, I determine all columns that have relevances with autonomous vehicle misbehavior outcomes. (whether or not each of them is relating to misbehaviors.) All irrelevant columns are neglected in the next step.</p>\n",
    "<i>Remember this step does not include training/testing a model (There is no need to separate the datset)</i>\n",
    "<p><b>Method 1</b>: Study the effect of every feature on the labeled class (binary effect, each feature and the \"class\" outcome)</p>"
   ]
  },
  {
   "cell_type": "code",
   "execution_count": 12,
   "id": "ec11414a",
   "metadata": {},
   "outputs": [
    {
     "data": {
      "image/png": "[encoded data removed]",
      "text/plain": [
       "<Figure size 640x480 with 2 Axes>"
      ]
     },
     "metadata": {},
     "output_type": "display_data"
    }
   ],
   "source": [
    "from matplotlib import pyplot as plt\n",
    "fig, axs = plt.subplots(2)\n",
    "fig.suptitle('type Value Distribution')\n",
    "\n",
    "type_n_Val_x = df[df['class'] == 0]['type'].tolist()\n",
    "type_n_Val_y = type_n_Val_x\n",
    "\n",
    "axs[0].scatter(type_n_Val_x, type_n_Val_y, color='blue')\n",
    "axs[0].set_title('Normal Behavior')\n",
    "\n",
    "type_d_Val_x = df[df['class'] != 0]['type'].tolist()\n",
    "type_d_Val_y = type_d_Val_x\n",
    "\n",
    "axs[1].scatter(type_d_Val_x, type_d_Val_y, color='red')\n",
    "axs[1].set_title('Misbehavior')\n",
    "\n",
    "for ax in axs.flat:\n",
    "    ax.set(xlabel='type', ylabel='type')\n",
    "\n",
    "for ax in axs.flat:\n",
    "    ax.label_outer()\n",
    "\n",
    "plt.tight_layout()\n",
    "plt.show()"
   ]
  },
  {
   "cell_type": "markdown",
   "id": "289d8c71",
   "metadata": {},
   "source": [
    "<p>By observation, both red points and green points repeated in the same position (4, 4), which means that all records, regardless of class values, have value 4 in the type column. There is no difference, so the column \"<b>type</b>\" is irrelevant to misbehavior distributions.</p>"
   ]
  },
  {
   "cell_type": "code",
   "execution_count": 13,
   "id": "f3edc8b0",
   "metadata": {},
   "outputs": [
    {
     "data": {
      "image/png": "[encoded data removed]",
      "text/plain": [
       "<Figure size 640x480 with 2 Axes>"
      ]
     },
     "metadata": {},
     "output_type": "display_data"
    }
   ],
   "source": [
    "from matplotlib import pyplot as plt\n",
    "fig, axs = plt.subplots(2)\n",
    "fig.suptitle('sendTime Value Distribution')\n",
    "\n",
    "sdt_n_Val_x = df[df['class'] == 0]['sendTime'].tolist()\n",
    "sdt_n_Val_y = sdt_n_Val_x\n",
    "\n",
    "axs[0].scatter(sdt_n_Val_x, sdt_n_Val_y, color='blue')\n",
    "axs[0].set_title('Normal Behavior')\n",
    "\n",
    "sdt_d_Val_x = df[df['class'] != 0]['sendTime'].tolist()\n",
    "sdt_d_Val_y = sdt_d_Val_x\n",
    "\n",
    "axs[1].scatter(sdt_d_Val_x, sdt_d_Val_y, color='red')\n",
    "axs[1].set_title('Misbehavior')\n",
    "\n",
    "for ax in axs.flat:\n",
    "    ax.set(xlabel='sendTime', ylabel='sendTime')\n",
    "\n",
    "for ax in axs.flat:\n",
    "    ax.label_outer()\n",
    "\n",
    "plt.tight_layout()\n",
    "plt.show()"
   ]
  },
  {
   "cell_type": "markdown",
   "id": "0a3426bd",
   "metadata": {},
   "source": [
    "<p>By observation, both red points and green points repeated in the same area, which means that all records, regardless of class values, have values between [0, about 86500] in the sendTime column. There is no difference, so the column \"<b>sendTime</b>\" is irrelevant to misbehavior distributions.</p>"
   ]
  },
  {
   "cell_type": "code",
   "execution_count": 14,
   "id": "96671635",
   "metadata": {},
   "outputs": [
    {
     "data": {
      "image/png": "[encoded data removed]",
      "text/plain": [
       "<Figure size 640x480 with 2 Axes>"
      ]
     },
     "metadata": {},
     "output_type": "display_data"
    }
   ],
   "source": [
    "from matplotlib import pyplot as plt\n",
    "fig, axs = plt.subplots(2)\n",
    "fig.suptitle('sender Value Distribution')\n",
    "\n",
    "sder_n_Val_x = df[df['class'] == 0]['sender'].tolist()\n",
    "sder_n_Val_y = sder_n_Val_x\n",
    "\n",
    "axs[0].scatter(sder_n_Val_x, sder_n_Val_y, color='blue')\n",
    "axs[0].set_title('Normal Behavior')\n",
    "axs[0].set_xlabel('sender')\n",
    "axs[0].set_ylabel('sender')\n",
    "\n",
    "sder_d_Val_x = df[df['class'] != 0]['sender'].tolist()\n",
    "sder_d_Val_y = sder_d_Val_x\n",
    "\n",
    "axs[1].scatter(sder_d_Val_x, sder_d_Val_y, color='red')\n",
    "axs[1].set_title('Misbehavior')\n",
    "axs[1].set_xlabel('sender')\n",
    "axs[1].set_ylabel('sender')\n",
    "\n",
    "for ax in axs.flat:\n",
    "    ax.label_outer()\n",
    "\n",
    "plt.tight_layout()\n",
    "plt.show()"
   ]
  },
  {
   "cell_type": "markdown",
   "id": "a70876f1",
   "metadata": {},
   "source": [
    "<p>By observation, both red points and green points repeated in the same area, which means that all records. There is no difference, so the column \"<b>sender</b>\" is irrelevant to misbehavior distributions.</p>"
   ]
  },
  {
   "cell_type": "code",
   "execution_count": 15,
   "id": "276d3b17",
   "metadata": {},
   "outputs": [
    {
     "data": {
      "image/png": "[encoded data removed]",
      "text/plain": [
       "<Figure size 640x480 with 2 Axes>"
      ]
     },
     "metadata": {},
     "output_type": "display_data"
    }
   ],
   "source": [
    "from matplotlib import pyplot as plt\n",
    "fig, axs = plt.subplots(2)\n",
    "fig.suptitle('senderPseudo Value Distribution')\n",
    "\n",
    "sps_n_Val_x = df[df['class'] == 0]['senderPseudo'].tolist()\n",
    "sps_n_Val_y = sps_n_Val_x\n",
    "\n",
    "axs[0].scatter(sps_n_Val_x, sps_n_Val_y, color='blue')\n",
    "axs[0].set_title('Normal Behavior')\n",
    "axs[0].set_xlabel('senderPseudo')\n",
    "axs[0].set_ylabel('senderPseudo')\n",
    "\n",
    "sps_d_Val_x = df[df['class'] != 0]['senderPseudo'].tolist()\n",
    "sps_d_Val_y = sps_d_Val_x\n",
    "\n",
    "axs[1].scatter(sps_d_Val_x, sps_d_Val_y, color='red')\n",
    "axs[1].set_title('Misbehavior')\n",
    "axs[1].set_xlabel('senderPseudo')\n",
    "axs[1].set_ylabel('senderPseudo')\n",
    "\n",
    "for ax in axs.flat:\n",
    "    ax.label_outer()\n",
    "\n",
    "plt.tight_layout()\n",
    "plt.show()"
   ]
  },
  {
   "cell_type": "markdown",
   "id": "28f32a9f",
   "metadata": {},
   "source": [
    "<p>Looks like there are a lot of differences between normal behaviors and misbehaviors, since normal behaviors only use a few senderpseudos, while misbehaviors' senderpseudos are wide-spread. Therefore, column \"<b>senderpseudo</b>\" is a variable relevant to misbehavior determinations.</p>"
   ]
  },
  {
   "cell_type": "code",
   "execution_count": 16,
   "id": "8013e542",
   "metadata": {},
   "outputs": [
    {
     "data": {
      "image/png": "[encoded data removed]",
      "text/plain": [
       "<Figure size 640x480 with 2 Axes>"
      ]
     },
     "metadata": {},
     "output_type": "display_data"
    }
   ],
   "source": [
    "from matplotlib import pyplot as plt\n",
    "fig, axs = plt.subplots(2)\n",
    "fig.suptitle('messageID Value Distribution')\n",
    "\n",
    "mesgid_n_Val_x = df[df['class'] == 0]['messageID'].tolist()\n",
    "mesgid_n_Val_y = mesgid_n_Val_x\n",
    "\n",
    "axs[0].scatter(mesgid_n_Val_x, mesgid_n_Val_y, color='blue')\n",
    "axs[0].set_title('Normal Behavior')\n",
    "axs[0].set_xlabel('messageID')\n",
    "axs[0].set_ylabel('messageID')\n",
    "\n",
    "mesgid_d_Val_x = df[df['class'] != 0]['messageID'].tolist()\n",
    "mesgid_d_Val_y = mesgid_d_Val_x\n",
    "\n",
    "axs[1].scatter(mesgid_d_Val_x, mesgid_d_Val_y, color='red')\n",
    "axs[1].set_title('Misbehavior')\n",
    "axs[1].set_xlabel('messageID')\n",
    "axs[1].set_ylabel('messageID')\n",
    "\n",
    "for ax in axs.flat:\n",
    "    ax.label_outer()\n",
    "\n",
    "plt.tight_layout()\n",
    "plt.show()"
   ]
  },
  {
   "cell_type": "markdown",
   "id": "8da77bea",
   "metadata": {},
   "source": [
    "<p>Almost where normal behavior occurs, where there are some misbehaviors. Therefore, the column \"<b>messageID</b>\" is a irrelevant variable</p>"
   ]
  },
  {
   "cell_type": "code",
   "execution_count": 17,
   "id": "1bbe29eb",
   "metadata": {},
   "outputs": [
    {
     "data": {
      "image/png": "[encoded data removed]",
      "text/plain": [
       "<Figure size 640x480 with 2 Axes>"
      ]
     },
     "metadata": {},
     "output_type": "display_data"
    }
   ],
   "source": [
    "from matplotlib import pyplot as plt\n",
    "fig, axs = plt.subplots(2)\n",
    "fig.suptitle('posx Value Distribution')\n",
    "\n",
    "posx_n_Val_x = df[df['class'] == 0]['posx'].tolist()\n",
    "posx_n_Val_y = posx_n_Val_x\n",
    "\n",
    "axs[0].scatter(posx_n_Val_x, posx_n_Val_y, color='blue')\n",
    "axs[0].set_title('Normal Behavior')\n",
    "axs[0].set_xlabel('posx')\n",
    "axs[0].set_ylabel('posx')\n",
    "\n",
    "posx_d_Val_x = df[df['class'] != 0]['posx'].tolist()\n",
    "posx_d_Val_y = posx_d_Val_x\n",
    "\n",
    "axs[1].scatter(posx_d_Val_x, posx_d_Val_y, color='red')\n",
    "axs[1].set_title('Misbehavior')\n",
    "axs[1].set_xlabel('posx')\n",
    "axs[1].set_ylabel('posx')\n",
    "\n",
    "for ax in axs.flat:\n",
    "    ax.label_outer()\n",
    "\n",
    "plt.tight_layout()\n",
    "plt.show()"
   ]
  },
  {
   "cell_type": "code",
   "execution_count": 18,
   "id": "9b4977e4",
   "metadata": {},
   "outputs": [
    {
     "data": {
      "image/png": "[encoded data removed]",
      "text/plain": [
       "<Figure size 640x480 with 2 Axes>"
      ]
     },
     "metadata": {},
     "output_type": "display_data"
    }
   ],
   "source": [
    "from matplotlib import pyplot as plt\n",
    "fig, axs = plt.subplots(2)\n",
    "fig.suptitle('posy Value Distribution')\n",
    "\n",
    "posy_n_Val_x = df[df['class'] == 0]['posy'].tolist()\n",
    "posy_n_Val_y = posy_n_Val_x\n",
    "\n",
    "axs[0].scatter(posy_n_Val_x, posy_n_Val_y, color='blue')\n",
    "axs[0].set_title('Normal Behavior')\n",
    "axs[0].set_xlabel('posy')\n",
    "axs[0].set_ylabel('posy')\n",
    "\n",
    "posy_d_Val_x = df[df['class'] != 0]['posy'].tolist()\n",
    "posy_d_Val_y = posy_d_Val_x\n",
    "\n",
    "axs[1].scatter(posy_d_Val_x, posy_d_Val_y, color='red')\n",
    "axs[1].set_title('Misbehavior')\n",
    "axs[1].set_xlabel('posy')\n",
    "axs[1].set_ylabel('posy')\n",
    "\n",
    "for ax in axs.flat:\n",
    "    ax.label_outer()\n",
    "\n",
    "plt.tight_layout()\n",
    "plt.show()"
   ]
  },
  {
   "cell_type": "code",
   "execution_count": 19,
   "id": "b678c77a",
   "metadata": {},
   "outputs": [
    {
     "data": {
      "image/png": "[encoded data removed]",
      "text/plain": [
       "<Figure size 640x480 with 2 Axes>"
      ]
     },
     "metadata": {},
     "output_type": "display_data"
    }
   ],
   "source": [
    "from matplotlib import pyplot as plt\n",
    "fig, axs = plt.subplots(2)\n",
    "fig.suptitle('posz Value Distribution')\n",
    "\n",
    "posz_n_Val_x = df[df['class'] == 0]['posz'].tolist()\n",
    "posz_n_Val_y = posz_n_Val_x\n",
    "\n",
    "axs[0].scatter(posz_n_Val_x, posz_n_Val_y, color='blue')\n",
    "axs[0].set_title('Normal Behavior')\n",
    "axs[0].set_xlabel('posz')\n",
    "axs[0].set_ylabel('posz')\n",
    "\n",
    "posz_d_Val_x = df[df['class'] != 0]['posz'].tolist()\n",
    "posz_d_Val_y = posz_d_Val_x\n",
    "\n",
    "axs[1].scatter(posz_d_Val_x, posz_d_Val_y, color='red')\n",
    "axs[1].set_title('Misbehavior')\n",
    "axs[1].set_xlabel('posz')\n",
    "axs[1].set_ylabel('posz')\n",
    "\n",
    "for ax in axs.flat:\n",
    "    ax.label_outer()\n",
    "\n",
    "plt.tight_layout()\n",
    "plt.show()"
   ]
  },
  {
   "cell_type": "markdown",
   "id": "7df0e1f6",
   "metadata": {},
   "source": [
    "<p>From these results we have two different findings:</p>\n",
    "<ol>\n",
    "  <li>Variables \"<b>posx</b>\", \"<b>posy</b>\", and \"<b>posz</b>\" do not have unary correlations with the misbehavior outcome.</li>\n",
    "  <li>Variable \"<b>posz</b>\" always has the value 0, and it is irrelevant to the misbehavior outcome.</li>\n",
    "</ol>\n",
    "\n",
    "<p>Then we need to find the binary relationships between (posx, posy) and the misbehavior outcome: </p>"
   ]
  },
  {
   "cell_type": "code",
   "execution_count": 20,
   "id": "38a2839f",
   "metadata": {},
   "outputs": [
    {
     "data": {
      "image/png": "[encoded data removed]",
      "text/plain": [
       "<Figure size 640x480 with 2 Axes>"
      ]
     },
     "metadata": {},
     "output_type": "display_data"
    }
   ],
   "source": [
    "from matplotlib import pyplot as plt\n",
    "fig, axs = plt.subplots(2)\n",
    "fig.suptitle('(posx, posy) Value Distribution')\n",
    "\n",
    "bixy_n_Val_x = df[df['class'] == 0]['posx'].tolist()\n",
    "bixy_n_Val_y = df[df['class'] == 0]['posy'].tolist()\n",
    "\n",
    "axs[0].scatter(bixy_n_Val_x, bixy_n_Val_y, color='blue')\n",
    "axs[0].set_title('Normal Behavior')\n",
    "axs[0].set_xlabel('posx')\n",
    "axs[0].set_ylabel('posy')\n",
    "\n",
    "bixy_d_Val_x = df[df['class'] != 0]['posx'].tolist()\n",
    "bixy_d_Val_y = df[df['class'] != 0]['posy'].tolist()\n",
    "\n",
    "axs[1].scatter(bixy_d_Val_x, bixy_d_Val_y, color='red')\n",
    "axs[1].set_title('Misbehavior')\n",
    "axs[1].set_xlabel('posx')\n",
    "axs[1].set_ylabel('posy')\n",
    "\n",
    "for ax in axs.flat:\n",
    "    ax.label_outer()\n",
    "\n",
    "plt.tight_layout()\n",
    "plt.show()"
   ]
  },
  {
   "cell_type": "markdown",
   "id": "e88ea252",
   "metadata": {},
   "source": [
    "<p>By observation, normal behaviors only occurs in a narrow blue area, while misbehaviors occurs everywhere. Therefore, (<b>posx, posy</b>) is a relevant variable in the determination of misbehaviors.</p>\n",
    "\n",
    "<p>Then we consider normalized position variables, and note that, since before position z does not have any changes (always have value 0), we do not consider normalized position z as a relevant variable.</p>"
   ]
  },
  {
   "cell_type": "code",
   "execution_count": 21,
   "id": "e6944248",
   "metadata": {},
   "outputs": [
    {
     "data": {
      "image/png": "[encoded data removed]",
      "text/plain": [
       "<Figure size 640x480 with 2 Axes>"
      ]
     },
     "metadata": {},
     "output_type": "display_data"
    }
   ],
   "source": [
    "from matplotlib import pyplot as plt\n",
    "fig, axs = plt.subplots(2)\n",
    "fig.suptitle('posx_n Value Distribution')\n",
    "\n",
    "posxn_n_Val_x = df[df['class'] == 0]['posx_n'].tolist()\n",
    "posxn_n_Val_y = posxn_n_Val_x\n",
    "\n",
    "axs[0].scatter(posxn_n_Val_x, posxn_n_Val_y, color='blue')\n",
    "axs[0].set_title('Normal Behavior')\n",
    "axs[0].set_xlabel('posx_n')\n",
    "axs[0].set_ylabel('posx_n')\n",
    "\n",
    "posxn_d_Val_x = df[df['class'] != 0]['posx_n'].tolist()\n",
    "posxn_d_Val_y = posxn_d_Val_x\n",
    "\n",
    "axs[1].scatter(posxn_d_Val_x, posxn_d_Val_y, color='red')\n",
    "axs[1].set_title('Misbehavior')\n",
    "axs[1].set_xlabel('posx_n')\n",
    "axs[1].set_ylabel('posx_n')\n",
    "\n",
    "for ax in axs.flat:\n",
    "    ax.label_outer()\n",
    "\n",
    "plt.tight_layout()\n",
    "plt.show()"
   ]
  },
  {
   "cell_type": "code",
   "execution_count": 22,
   "id": "189f16a1",
   "metadata": {},
   "outputs": [
    {
     "data": {
      "image/png": "[encoded data removed]",
      "text/plain": [
       "<Figure size 640x480 with 2 Axes>"
      ]
     },
     "metadata": {},
     "output_type": "display_data"
    }
   ],
   "source": [
    "from matplotlib import pyplot as plt\n",
    "fig, axs = plt.subplots(2)\n",
    "fig.suptitle('posy_n Value Distribution')\n",
    "\n",
    "posyn_n_Val_x = df[df['class'] == 0]['posy_n'].tolist()\n",
    "posyn_n_Val_y = posyn_n_Val_x\n",
    "\n",
    "axs[0].scatter(posyn_n_Val_x, posyn_n_Val_y, color='blue')\n",
    "axs[0].set_title('Normal Behavior')\n",
    "axs[0].set_xlabel('posy_n')\n",
    "axs[0].set_ylabel('posy_n')\n",
    "\n",
    "posyn_d_Val_x = df[df['class'] != 0]['posy_n'].tolist()\n",
    "posyn_d_Val_y = posyn_d_Val_x\n",
    "\n",
    "axs[1].scatter(posyn_d_Val_x, posyn_d_Val_y, color='red')\n",
    "axs[1].set_title('Misbehavior')\n",
    "axs[1].set_xlabel('posy_n')\n",
    "axs[1].set_ylabel('posy_n')\n",
    "\n",
    "for ax in axs.flat:\n",
    "    ax.label_outer()\n",
    "\n",
    "plt.tight_layout()\n",
    "plt.show()"
   ]
  },
  {
   "cell_type": "markdown",
   "id": "65e6ad4a",
   "metadata": {},
   "source": [
    "<p>Both \"<b>posx_n</b>\" and \"<b>posy_n</b>\" are unary-relevant because of their differences between normal behaviors and misbehaviors. Then we find the binary relationships between them and the misbehavior outcome.</p>"
   ]
  },
  {
   "cell_type": "code",
   "execution_count": 23,
   "id": "87f97029",
   "metadata": {},
   "outputs": [
    {
     "data": {
      "image/png": "[encoded data removed]",
      "text/plain": [
       "<Figure size 640x480 with 2 Axes>"
      ]
     },
     "metadata": {},
     "output_type": "display_data"
    }
   ],
   "source": [
    "from matplotlib import pyplot as plt\n",
    "fig, axs = plt.subplots(2)\n",
    "fig.suptitle('(posx_n, posy_n) Value Distribution')\n",
    "\n",
    "bixyn_n_Val_x = df[df['class'] == 0]['posx_n'].tolist()\n",
    "bixyn_n_Val_y = df[df['class'] == 0]['posy_n'].tolist()\n",
    "\n",
    "axs[0].scatter(bixyn_n_Val_x, bixyn_n_Val_y, color='blue')\n",
    "axs[0].set_title('Normal Behavior')\n",
    "axs[0].set_xlabel('posx_n')\n",
    "axs[0].set_ylabel('posy_n')\n",
    "\n",
    "bixyn_d_Val_x = df[df['class'] != 0]['posx_n'].tolist()\n",
    "bixyn_d_Val_y = df[df['class'] != 0]['posy_n'].tolist()\n",
    "\n",
    "axs[1].scatter(bixyn_d_Val_x, bixyn_d_Val_y, color='red')\n",
    "axs[1].set_title('Misbehavior')\n",
    "axs[1].set_xlabel('posx_n')\n",
    "axs[1].set_ylabel('posy_n')\n",
    "\n",
    "for ax in axs.flat:\n",
    "    ax.label_outer()\n",
    "\n",
    "plt.tight_layout()\n",
    "plt.show()"
   ]
  },
  {
   "cell_type": "markdown",
   "id": "eed765da",
   "metadata": {},
   "source": [
    "<p>By observation, the pair <b>(posx, posy)</b> has correlations with the misbehavior outcome, since there are several outliners outside of the ellipse.</p>\n",
    "<p>Then we inspect the speed characteristics (variable <b>spdz</b> has value 0, and I do not consider it as a relevant variable)</p>"
   ]
  },
  {
   "cell_type": "code",
   "execution_count": 24,
   "id": "3d3d3808",
   "metadata": {},
   "outputs": [
    {
     "data": {
      "image/png": "[encoded data removed]",
      "text/plain": [
       "<Figure size 640x480 with 2 Axes>"
      ]
     },
     "metadata": {},
     "output_type": "display_data"
    }
   ],
   "source": [
    "from matplotlib import pyplot as plt\n",
    "fig, axs = plt.subplots(2)\n",
    "fig.suptitle('spdx Value Distribution')\n",
    "\n",
    "spdx_n_Val_x = df[df['class'] == 0]['spdx'].tolist()\n",
    "spdx_n_Val_y = spdx_n_Val_x\n",
    "\n",
    "axs[0].scatter(spdx_n_Val_x, spdx_n_Val_y, color='blue')\n",
    "axs[0].set_title('Normal Behavior')\n",
    "axs[0].set_xlabel('spdx')\n",
    "axs[0].set_ylabel('spdx')\n",
    "\n",
    "spdx_d_Val_x = df[df['class'] != 0]['spdx'].tolist()\n",
    "spdx_d_Val_y = spdx_d_Val_x\n",
    "\n",
    "axs[1].scatter(spdx_d_Val_x, spdx_d_Val_y, color='red')\n",
    "axs[1].set_title('Misbehavior')\n",
    "axs[1].set_xlabel('spdx')\n",
    "axs[1].set_ylabel('spdx')\n",
    "\n",
    "for ax in axs.flat:\n",
    "    ax.label_outer()\n",
    "\n",
    "plt.tight_layout()\n",
    "plt.show()"
   ]
  },
  {
   "cell_type": "code",
   "execution_count": 25,
   "id": "81b80665",
   "metadata": {},
   "outputs": [
    {
     "data": {
      "image/png": "[encoded data removed]",
      "text/plain": [
       "<Figure size 640x480 with 2 Axes>"
      ]
     },
     "metadata": {},
     "output_type": "display_data"
    }
   ],
   "source": [
    "from matplotlib import pyplot as plt\n",
    "fig, axs = plt.subplots(2)\n",
    "fig.suptitle('spdy Value Distribution')\n",
    "\n",
    "spdy_n_Val_x = df[df['class'] == 0]['spdy'].tolist()\n",
    "spdy_n_Val_y = spdy_n_Val_x\n",
    "\n",
    "axs[0].scatter(spdy_n_Val_x, spdy_n_Val_y, color='blue')\n",
    "axs[0].set_title('Normal Behavior')\n",
    "axs[0].set_xlabel('spdy')\n",
    "axs[0].set_ylabel('spdy')\n",
    "\n",
    "spdy_d_Val_x = df[df['class'] != 0]['spdy'].tolist()\n",
    "spdy_d_Val_y = spdy_d_Val_x\n",
    "\n",
    "axs[1].scatter(spdy_d_Val_x, spdy_d_Val_y, color='red')\n",
    "axs[1].set_title('Misbehavior')\n",
    "axs[1].set_xlabel('spdy')\n",
    "axs[1].set_ylabel('spdy')\n",
    "\n",
    "for ax in axs.flat:\n",
    "    ax.label_outer()\n",
    "\n",
    "plt.tight_layout()\n",
    "plt.show()"
   ]
  },
  {
   "cell_type": "code",
   "execution_count": 26,
   "id": "d99c0547",
   "metadata": {},
   "outputs": [
    {
     "data": {
      "image/png": "[encoded data removed]",
      "text/plain": [
       "<Figure size 640x480 with 2 Axes>"
      ]
     },
     "metadata": {},
     "output_type": "display_data"
    }
   ],
   "source": [
    "from matplotlib import pyplot as plt\n",
    "fig, axs = plt.subplots(2)\n",
    "fig.suptitle('(spdx, spdy) Value Distribution')\n",
    "\n",
    "bisxy_n_Val_x = df[df['class'] == 0]['spdx'].tolist()\n",
    "bisxy_n_Val_y = df[df['class'] == 0]['spdy'].tolist()\n",
    "\n",
    "axs[0].scatter(bisxy_n_Val_x, bisxy_n_Val_y, color='blue')\n",
    "axs[0].set_title('Normal Behavior')\n",
    "axs[0].set_xlabel('spdx')\n",
    "axs[0].set_ylabel('spdy')\n",
    "\n",
    "bisxy_d_Val_x = df[df['class'] != 0]['spdx'].tolist()\n",
    "bisxy_d_Val_y = df[df['class'] != 0]['spdy'].tolist()\n",
    "\n",
    "axs[1].scatter(bisxy_d_Val_x, bisxy_d_Val_y, color='red')\n",
    "axs[1].set_title('Misbehavior')\n",
    "axs[1].set_xlabel('spdx')\n",
    "axs[1].set_ylabel('spdy')\n",
    "\n",
    "for ax in axs.flat:\n",
    "    ax.label_outer()\n",
    "\n",
    "plt.tight_layout()\n",
    "plt.show()"
   ]
  },
  {
   "cell_type": "markdown",
   "id": "db925230",
   "metadata": {},
   "source": [
    "<p>By observation, the pair <b>(spdx, spdy)</b> has correlations with the misbehavior outcome, since there are a rectangle that only belongs to misbehaviors.</p> (instead of normal behaviors)\n",
    "<p>Then we inspect the normalized speed characteristics (variable <b>spdz_n</b> has value 0, and I do not consider it as a relevant variable)</p>"
   ]
  },
  {
   "cell_type": "code",
   "execution_count": 27,
   "id": "92f402e6",
   "metadata": {},
   "outputs": [
    {
     "data": {
      "image/png": "[encoded data removed]",
      "text/plain": [
       "<Figure size 640x480 with 2 Axes>"
      ]
     },
     "metadata": {},
     "output_type": "display_data"
    }
   ],
   "source": [
    "from matplotlib import pyplot as plt\n",
    "fig, axs = plt.subplots(2)\n",
    "fig.suptitle('(spdx_n, spdy_n) Value Distribution')\n",
    "\n",
    "bisxyn_n_Val_x = df[df['class'] == 0]['spdx_n'].tolist()\n",
    "bisxyn_n_Val_y = df[df['class'] == 0]['spdy_n'].tolist()\n",
    "\n",
    "axs[0].scatter(bisxyn_n_Val_x, bisxyn_n_Val_y, color='blue')\n",
    "axs[0].set_title('Normal Behavior')\n",
    "axs[0].set_xlabel('spdx_n')\n",
    "axs[0].set_ylabel('spdy_n')\n",
    "\n",
    "bisxyn_d_Val_x = df[df['class'] != 0]['spdx_n'].tolist()\n",
    "bisxyn_d_Val_y = df[df['class'] != 0]['spdy_n'].tolist()\n",
    "\n",
    "axs[1].scatter(bisxyn_d_Val_x, bisxyn_d_Val_y, color='red')\n",
    "axs[1].set_title('Misbehavior')\n",
    "axs[1].set_xlabel('spdx_n')\n",
    "axs[1].set_ylabel('spdy_n')\n",
    "\n",
    "for ax in axs.flat:\n",
    "    ax.label_outer()\n",
    "\n",
    "plt.tight_layout()\n",
    "plt.show()"
   ]
  },
  {
   "cell_type": "markdown",
   "id": "aff049f9",
   "metadata": {},
   "source": [
    "<p>Seems like normal behavior has some unique outliners that misbehaviors does not have. The speed pair <b>(spdx, spdy)</b> can be considered relevant to the misbehavior outcome.</p>"
   ]
  },
  {
   "cell_type": "markdown",
   "id": "30896cc1",
   "metadata": {},
   "source": [
    "<p><b>Method 2</b>: f-test in one-way Analysis of Variance (ANOVA)</p>"
   ]
  },
  {
   "cell_type": "code",
   "execution_count": null,
   "id": "3a3f2a2a",
   "metadata": {},
   "outputs": [],
   "source": [
    "import pandas as pd\n",
    "from scipy.stats import f_oneway\n",
    "constant_features = [col for col in df.columns[:-1] if df[col].nunique() == 1]\n",
    "near_constant_features = [col for col in df.columns[:-1] if (df[col].value_counts(normalize=True).max() > 0.95)]\n",
    "\n",
    "df.drop(columns=constant_features, inplace=True)\n",
    "\n",
    "anova_results = {}\n",
    "for feature in df.columns[:-1]:\n",
    "    groups = [df[df['class'] == group][feature] for group in df['class'].unique()]\n",
    "    try:\n",
    "        anova_results[feature] = f_oneway(*groups)\n",
    "    except ValueError:\n",
    "        print(f\"Ignoring feature '{feature}' due to constant input.\")\n",
    "\n",
    "significant_features = []\n",
    "for feature, result in anova_results.items():\n",
    "    if result.pvalue < 0.05:\n",
    "        significant_features.append(feature)\n",
    "\n",
    "print(\"f-test in one-way Analysis of Variance (ANOVA)\")\n",
    "print(str(len(significant_features)) + \"Significant features:\" + str(significant_features))"
   ]
  },
  {
   "cell_type": "markdown",
   "id": "eeacbbcb",
   "metadata": {},
   "source": [
    "<p><b>Method 3</b>: Recursive Feature Elimination (RFE)</p>"
   ]
  },
  {
   "cell_type": "code",
   "execution_count": 29,
   "id": "8d1931f8",
   "metadata": {},
   "outputs": [
    {
     "name": "stdout",
     "output_type": "stream",
     "text": [
      "Selected Features: ['posx_n', 'posy_n', 'spdx', 'spdy', 'spdx_n', 'spdy_n', 'aclx', 'acly', 'aclx_n', 'acly_n', 'hedx', 'hedy']\n"
     ]
    }
   ],
   "source": [
    "import pandas as pd\n",
    "from sklearn.feature_selection import RFE\n",
    "from sklearn.linear_model import LinearRegression\n",
    "\n",
    "X = df.drop(columns=['class'])\n",
    "y = df['class']\n",
    "\n",
    "estimator = LinearRegression()\n",
    "rfe = RFE(estimator, n_features_to_select=12)\n",
    "rfe.fit(X, y)\n",
    "\n",
    "selected_features = X.columns[rfe.support_].tolist()\n",
    "print(\"Selected Features:\", selected_features)"
   ]
  },
  {
   "cell_type": "markdown",
   "id": "6bec03e0",
   "metadata": {},
   "source": [
    "<p>Looks like there are some differences between these results and the given result from initial research.</p>"
   ]
  },
  {
   "cell_type": "code",
   "execution_count": 17,
   "id": "de2308fc",
   "metadata": {},
   "outputs": [
    {
     "name": "stdout",
     "output_type": "stream",
     "text": [
      "Origianl research selected features\n",
      "features = ['posx', 'posy', 'spdx', 'spdy', 'spdx_n', 'spdy_n', 'aclx', 'acly', 'hedx', 'hedy', 'hedx_n', 'hedy_n']\n"
     ]
    }
   ],
   "source": [
    "print(\"Origianl research selected features\")\n",
    "print(\"features = ['posx', 'posy', 'spdx', 'spdy', 'spdx_n', 'spdy_n', 'aclx', 'acly', 'hedx', 'hedy', 'hedx_n', 'hedy_n']\")"
   ]
  },
  {
   "cell_type": "markdown",
   "id": "454cbdf7",
   "metadata": {},
   "source": [
    "<p>In the next section, we use the twelve features extracted from the third original RFE method implementation: 'posx', 'posy', 'spdx', 'spdy', 'spdx_n', 'spdy_n', 'aclx', 'acly', 'hedx', 'hedy', 'hedx_n', 'hedy_n'. Similar classification implementations (with the first and the second feature selection method's results) will take place on complementary notebooks. See file \"<b>Classification based on the First Original Featuring Result.ipynb</b>\" and \"<b>Classification based on the Second Original Featuring Result.ipynb</b>\" in the same repository.</p>"
   ]
  },
  {
   "cell_type": "markdown",
   "id": "03f2054b",
   "metadata": {},
   "source": [
    "### <a class=\"anchor\" id=\"bullet5-1\"><p><b>Section 5.1</b>: Classification (Binary Classification Approach (BCA))</p></a>"
   ]
  },
  {
   "cell_type": "markdown",
   "id": "4d564b21",
   "metadata": {},
   "source": [
    "<p>At first we need to divide dataset into training data and testing data. This is completed on each algorithm's implementation. </p>\n",
    "<p>80% data is training data, while 20% remaining is testing data. (This is normal setting). However, in order to improve accuracy, some models' training-testing data ratio s are customized.</p>"
   ]
  },
  {
   "cell_type": "code",
   "execution_count": 8,
   "id": "331f553b",
   "metadata": {},
   "outputs": [
    {
     "name": "stdout",
     "output_type": "stream",
     "text": [
      "Logistic Regression Accuracy: 0.7194606252014987\n",
      "Logistic Regression Precision: 0.912851940119884\n",
      "Logistic Regression Recall: 0.34124348694689666\n",
      "Logistic Regression F1-score: 0.49678002549029515\n"
     ]
    }
   ],
   "source": [
    "from sklearn.metrics import precision_score, recall_score, f1_score\n",
    "import pandas as pd\n",
    "from sklearn.model_selection import train_test_split\n",
    "from sklearn.linear_model import LogisticRegression\n",
    "from sklearn.metrics import accuracy_score\n",
    "from sklearn.preprocessing import StandardScaler\n",
    "\n",
    "features = ['posx', 'posy', 'spdx', 'spdy', 'spdx_n', 'spdy_n', 'aclx', 'acly', 'hedx', 'hedy', 'hedx_n', 'hedy_n']\n",
    "X = df[features]\n",
    "Y = (df['class'] != 0).astype(int)\n",
    "\n",
    "scaler = StandardScaler()\n",
    "X_scaled = scaler.fit_transform(X)\n",
    "\n",
    "X_train, X_test, Y_train, Y_test = train_test_split(X_scaled, Y, test_size=0.2, random_state=42)\n",
    "\n",
    "lr = LogisticRegression(random_state=42)\n",
    "\n",
    "lr.fit(X_train, Y_train)\n",
    "\n",
    "Y_pred = lr.predict(X_test)\n",
    "\n",
    "accuracy = accuracy_score(Y_test, Y_pred)\n",
    "precision = precision_score(Y_test, Y_pred)\n",
    "recall = recall_score(Y_test, Y_pred)\n",
    "f1 = f1_score(Y_test, Y_pred)\n",
    "\n",
    "print(\"Logistic Regression Accuracy:\", accuracy)\n",
    "print(\"Logistic Regression Precision:\", precision)\n",
    "print(\"Logistic Regression Recall:\", recall)\n",
    "print(\"Logistic Regression F1-score:\", f1)"
   ]
  },
  {
   "cell_type": "code",
   "execution_count": 12,
   "id": "a1e304fa",
   "metadata": {},
   "outputs": [
    {
     "name": "stdout",
     "output_type": "stream",
     "text": [
      "Best Hyperparameters: {'C': 1.934347898661638, 'solver': 'saga'}\n",
      "Improved Logistic Regression Accuracy: 0.7194574951249058\n",
      "Improved Logistic Regression Precision: 0.9128160688310483\n",
      "Improved Logistic Regression Recall: 0.3412512004072707\n",
      "Improved Logistic Regression F1-score: 0.4967828869799562\n"
     ]
    }
   ],
   "source": [
    "from sklearn.model_selection import RandomizedSearchCV\n",
    "from scipy.stats import uniform\n",
    "\n",
    "param_dist = {\n",
    "    'C': uniform(0.1, 10),\n",
    "    'solver': ['liblinear', 'lbfgs', 'sag', 'saga']\n",
    "}\n",
    "\n",
    "lr = LogisticRegression(random_state=42)\n",
    "\n",
    "random_search = RandomizedSearchCV(lr, param_distributions=param_dist, n_iter=5, cv=5, scoring='f1', random_state=42)\n",
    "random_search.fit(X_train, Y_train)\n",
    "\n",
    "best_params = random_search.best_params_\n",
    "print(\"Best Hyperparameters:\", best_params)\n",
    "\n",
    "best_lr = LogisticRegression(**best_params, random_state=42)\n",
    "best_lr.fit(X_train, Y_train)\n",
    "\n",
    "Y_pred = best_lr.predict(X_test)\n",
    "\n",
    "accuracy = accuracy_score(Y_test, Y_pred)\n",
    "precision = precision_score(Y_test, Y_pred)\n",
    "recall = recall_score(Y_test, Y_pred)\n",
    "f1 = f1_score(Y_test, Y_pred)\n",
    "\n",
    "print(\"Improved Logistic Regression Accuracy:\", accuracy)\n",
    "print(\"Improved Logistic Regression Precision:\", precision)\n",
    "print(\"Improved Logistic Regression Recall:\", recall)\n",
    "print(\"Improved Logistic Regression F1-score:\", f1)"
   ]
  },
  {
   "cell_type": "code",
   "execution_count": 19,
   "id": "c72db303",
   "metadata": {
    "scrolled": true
   },
   "outputs": [
    {
     "name": "stdout",
     "output_type": "stream",
     "text": [
      "*********\n",
      "KNN Accuracy when n_neighbors = 1 : 0.8446057825034978\n",
      "KNN Precision: 0.7937970546108928\n",
      "KNN Recall: 0.8336052328115178\n",
      "KNN F1-score: 0.8132142662304802\n",
      "*********\n",
      "KNN Accuracy when n_neighbors = 2 : 0.8693271274348083\n",
      "KNN Precision: 0.9046404566798637\n",
      "KNN Recall: 0.7578706221291465\n",
      "KNN F1-score: 0.8247769707475441\n",
      "*********\n",
      "KNN Accuracy when n_neighbors = 3 : 0.8565892807396998\n",
      "KNN Precision: 0.8379133393262412\n",
      "KNN Recall: 0.8016676501328643\n",
      "KNN F1-score: 0.8193898588373496\n",
      "*********\n",
      "KNN Accuracy when n_neighbors = 4 : 0.8632046976189507\n",
      "KNN Precision: 0.8987416948145949\n",
      "KNN Recall: 0.7470640641451365\n",
      "KNN F1-score: 0.8159135663363627\n",
      "*********\n",
      "KNN Accuracy when n_neighbors = 5 : 0.8513464024464679\n",
      "KNN Precision: 0.8532683715549975\n",
      "KNN Recall: 0.7652716873580241\n",
      "KNN F1-score: 0.806877930358617\n",
      "*********\n",
      "KNN Accuracy when n_neighbors = 6 : 0.8506843912470539\n",
      "KNN Precision: 0.8987736032703912\n",
      "KNN Recall: 0.7122609309375325\n",
      "KNN F1-score: 0.7947207955814418\n",
      "*********\n",
      "KNN Accuracy when n_neighbors = 7 : 0.8438185682403648\n",
      "KNN Precision: 0.8653253256004655\n",
      "KNN Recall: 0.7285016217550436\n",
      "KNN F1-score: 0.7910405883042699\n",
      "*********\n",
      "KNN Accuracy when n_neighbors = 8 : 0.8492868120482908\n",
      "KNN Precision: 0.913351559448753\n",
      "KNN Recall: 0.6944814047754033\n",
      "KNN F1-score: 0.7890193672771888\n",
      "*********\n",
      "KNN Accuracy when n_neighbors = 9 : 0.8449845217712477\n",
      "KNN Precision: 0.8878389760768329\n",
      "KNN Recall: 0.7073551701396522\n",
      "KNN F1-score: 0.7873869039313964\n",
      "*********\n",
      "KNN Accuracy when n_neighbors = 10 : 0.8474291115903606\n",
      "KNN Precision: 0.9219211231759343\n",
      "KNN Recall: 0.681758051888448\n",
      "KNN F1-score: 0.7838564704265136\n",
      "*********\n"
     ]
    }
   ],
   "source": [
    "from sklearn.metrics import precision_score, recall_score, f1_score\n",
    "from sklearn.model_selection import train_test_split\n",
    "from sklearn.neighbors import KNeighborsClassifier\n",
    "from sklearn.metrics import accuracy_score\n",
    "import pandas as pd\n",
    "import warnings\n",
    "\n",
    "warnings.filterwarnings(\"ignore\", category=FutureWarning)\n",
    "\n",
    "features = ['posx', 'posy', 'spdx', 'spdy', 'spdx_n', 'spdy_n', 'aclx', 'acly', 'hedx', 'hedy', 'hedx_n', 'hedy_n']\n",
    "X = df[features]\n",
    "Y = (df['class'] != 0).astype(int)\n",
    "\n",
    "X_train, X_test, Y_train, Y_test = train_test_split(X, Y, test_size=0.2, random_state=42)\n",
    "\n",
    "n_neighbor_amount = 1\n",
    "\n",
    "print(\"*********\")\n",
    "while n_neighbor_amount < 11:\n",
    "    knn = KNeighborsClassifier(n_neighbors=n_neighbor_amount)\n",
    "    knn.fit(X_train, Y_train)\n",
    "    Y_pred = knn.predict(X_test)\n",
    "    accuracy = accuracy_score(Y_test, Y_pred)\n",
    "    print(\"KNN Accuracy when n_neighbors =\", n_neighbor_amount, \":\", accuracy)\n",
    "    precision = precision_score(Y_test, Y_pred)\n",
    "    recall = recall_score(Y_test, Y_pred)\n",
    "    f1 = f1_score(Y_test, Y_pred)\n",
    "\n",
    "    print(\"KNN Precision:\", precision)\n",
    "    print(\"KNN Recall:\", recall)\n",
    "    print(\"KNN F1-score:\", f1)\n",
    "    print(\"*********\")\n",
    "    n_neighbor_amount += 1"
   ]
  },
  {
   "cell_type": "code",
   "execution_count": 33,
   "id": "d634db0a",
   "metadata": {},
   "outputs": [
    {
     "name": "stdout",
     "output_type": "stream",
     "text": [
      "Random Forest Accuracy: 0.8969813541337357\n",
      "Random Forest Precision: 0.9021176118459888\n",
      "Random Forest Recall: 0.8369413044232838\n",
      "Random Forest F1-score: 0.8683081219827905\n"
     ]
    }
   ],
   "source": [
    "from sklearn.metrics import precision_score, recall_score, f1_score\n",
    "import pandas as pd\n",
    "from sklearn.model_selection import train_test_split\n",
    "from sklearn.ensemble import RandomForestClassifier\n",
    "from sklearn.metrics import accuracy_score\n",
    "\n",
    "features = ['posx', 'posy', 'spdx', 'spdy', 'spdx_n', 'spdy_n', 'aclx', 'acly', 'hedx', 'hedy', 'hedx_n', 'hedy_n']\n",
    "X = df[features]\n",
    "Y = (df['class'] != 0).astype(int)\n",
    "\n",
    "X_train, X_test, Y_train, Y_test = train_test_split(X, Y, test_size=0.2, random_state=42)\n",
    "\n",
    "rf = RandomForestClassifier(n_estimators=20, random_state=42)\n",
    "\n",
    "rf.fit(X_train, Y_train)\n",
    "\n",
    "Y_pred = rf.predict(X_test)\n",
    "\n",
    "accuracy = accuracy_score(Y_test, Y_pred)\n",
    "precision = precision_score(Y_test, Y_pred)\n",
    "recall = recall_score(Y_test, Y_pred)\n",
    "f1 = f1_score(Y_test, Y_pred)\n",
    "\n",
    "print(\"Random Forest Accuracy:\", accuracy)\n",
    "print(\"Random Forest Precision:\", precision)\n",
    "print(\"Random Forest Recall:\", recall)\n",
    "print(\"Random Forest F1-score:\", f1)"
   ]
  },
  {
   "cell_type": "code",
   "execution_count": 32,
   "id": "0922ee46",
   "metadata": {},
   "outputs": [
    {
     "name": "stdout",
     "output_type": "stream",
     "text": [
      "Decision Tree Accuracy: 0.8647900814132922\n",
      "Decision Tree Precision: 0.8214166450224482\n",
      "Decision Tree Recall: 0.8526289843015822\n",
      "Decision Tree F1-score: 0.8367318398802618\n"
     ]
    }
   ],
   "source": [
    "from sklearn.metrics import precision_score, recall_score, f1_score\n",
    "import pandas as pd\n",
    "from sklearn.model_selection import train_test_split\n",
    "from sklearn.tree import DecisionTreeClassifier\n",
    "from sklearn.metrics import accuracy_score\n",
    "\n",
    "features = ['posx', 'posy', 'spdx', 'spdy', 'spdx_n', 'spdy_n', 'aclx', 'acly', 'hedx', 'hedy', 'hedx_n', 'hedy_n']\n",
    "X = df[features]\n",
    "Y = (df['class'] != 0).astype(int)\n",
    "\n",
    "X_train, X_test, Y_train, Y_test = train_test_split(X, Y, test_size=0.1, random_state=42)\n",
    "\n",
    "dt = DecisionTreeClassifier(random_state=42)\n",
    "\n",
    "dt.fit(X_train, Y_train)\n",
    "\n",
    "Y_pred = dt.predict(X_test)\n",
    "\n",
    "accuracy = accuracy_score(Y_test, Y_pred)\n",
    "precision = precision_score(Y_test, Y_pred)\n",
    "recall = recall_score(Y_test, Y_pred)\n",
    "f1 = f1_score(Y_test, Y_pred)\n",
    "\n",
    "print(\"Decision Tree Accuracy:\", accuracy)\n",
    "print(\"Decision Tree Precision:\", precision)\n",
    "print(\"Decision Tree Recall:\", recall)\n",
    "print(\"Decision Tree F1-score:\", f1)"
   ]
  },
  {
   "cell_type": "code",
   "execution_count": 34,
   "id": "b1ee6bdd",
   "metadata": {},
   "outputs": [
    {
     "name": "stdout",
     "output_type": "stream",
     "text": [
      "Naive Bayes Accuracy: 0.6684309530276427\n",
      "Naive Bayes Precision: 0.6817753018748014\n",
      "Naive Bayes Recall: 0.3419155638002515\n",
      "Naive Bayes F1-score: 0.4554296507703814\n"
     ]
    }
   ],
   "source": [
    "from sklearn.metrics import precision_score, recall_score, f1_score\n",
    "import pandas as pd\n",
    "from sklearn.model_selection import train_test_split\n",
    "from sklearn.naive_bayes import GaussianNB\n",
    "from sklearn.metrics import accuracy_score\n",
    "\n",
    "features = ['posx', 'posy', 'spdx', 'spdy', 'spdx_n', 'spdy_n', 'aclx', 'acly', 'hedx', 'hedy', 'hedx_n', 'hedy_n']\n",
    "X = df[features]\n",
    "Y = (df['class'] != 0).astype(int)\n",
    "\n",
    "X_train, X_test, Y_train, Y_test = train_test_split(X, Y, test_size=0.31, random_state=42)\n",
    "\n",
    "nb = GaussianNB()\n",
    "\n",
    "nb.fit(X_train, Y_train)\n",
    "\n",
    "Y_pred = nb.predict(X_test)\n",
    "\n",
    "accuracy = accuracy_score(Y_test, Y_pred)\n",
    "precision = precision_score(Y_test, Y_pred)\n",
    "recall = recall_score(Y_test, Y_pred)\n",
    "f1 = f1_score(Y_test, Y_pred)\n",
    "\n",
    "print(\"Naive Bayes Accuracy:\", accuracy)\n",
    "print(\"Naive Bayes Precision:\", precision)\n",
    "print(\"Naive Bayes Recall:\", recall)\n",
    "print(\"Naive Bayes F1-score:\", f1)"
   ]
  },
  {
   "cell_type": "code",
   "execution_count": 20,
   "id": "ef5e806d",
   "metadata": {},
   "outputs": [
    {
     "name": "stderr",
     "output_type": "stream",
     "text": [
      "C:\\Users\\david\\anaconda3\\lib\\site-packages\\sklearn\\neural_network\\_multilayer_perceptron.py:699: UserWarning: Training interrupted by user.\n",
      "  warnings.warn(\"Training interrupted by user.\")\n"
     ]
    },
    {
     "name": "stdout",
     "output_type": "stream",
     "text": [
      "MLP Accuracy: 0.821396264566594\n",
      "MLP Precision: 0.9818500471341132\n",
      "MLP Recall: 0.5704103946592001\n",
      "MLP F1-score: 0.7216024551072036\n"
     ]
    }
   ],
   "source": [
    "from sklearn.metrics import precision_score, recall_score, f1_score\n",
    "import pandas as pd\n",
    "from sklearn.model_selection import train_test_split\n",
    "from sklearn.neural_network import MLPClassifier\n",
    "from sklearn.metrics import accuracy_score\n",
    "from sklearn.preprocessing import StandardScaler\n",
    "\n",
    "features = ['posx', 'posy', 'spdx', 'spdy', 'spdx_n', 'spdy_n', 'aclx', 'acly', 'hedx', 'hedy', 'hedx_n', 'hedy_n']\n",
    "X = df[features]\n",
    "Y = (df['class'] != 0).astype(int)\n",
    "\n",
    "scaler = StandardScaler()\n",
    "X_scaled = scaler.fit_transform(X)\n",
    "\n",
    "X_train, X_test, Y_train, Y_test = train_test_split(X_scaled, Y, test_size=0.2, random_state=42)\n",
    "\n",
    "# Adjust max_iter and tol\n",
    "mlp = MLPClassifier(hidden_layer_sizes=(100, 50), activation='relu', solver='adam', random_state=42,\n",
    "                    max_iter=100, tol=0.001)\n",
    "\n",
    "mlp.fit(X_train, Y_train)\n",
    "\n",
    "Y_pred = mlp.predict(X_test)\n",
    "\n",
    "accuracy = accuracy_score(Y_test, Y_pred)\n",
    "precision = precision_score(Y_test, Y_pred)\n",
    "recall = recall_score(Y_test, Y_pred)\n",
    "f1 = f1_score(Y_test, Y_pred)\n",
    "\n",
    "print(\"MLP Accuracy:\", accuracy)\n",
    "print(\"MLP Precision:\", precision)\n",
    "print(\"MLP Recall:\", recall)\n",
    "print(\"MLP F1-score:\", f1)"
   ]
  },
  {
   "cell_type": "code",
   "execution_count": 24,
   "id": "db85c4e8",
   "metadata": {},
   "outputs": [
    {
     "name": "stdout",
     "output_type": "stream",
     "text": [
      "63897/63897 [==============================] - 87s 1ms/step - loss: 0.5693 - accuracy: 0.7280 - val_loss: 0.4926 - val_accuracy: 0.7701\n",
      "19968/19968 [==============================] - 17s 859us/step\n",
      "19968/19968 [==============================] - 20s 1ms/step - loss: 0.4927 - accuracy: 0.7696\n",
      "ANN Accuracy: 0.7696326375007629\n",
      "ANN Precision: 0.9077370775890291\n",
      "ANN Recall: 0.48121579562415395\n",
      "ANN F1-score: 0.6289881081408069\n"
     ]
    }
   ],
   "source": [
    "import pandas as pd\n",
    "import numpy as np\n",
    "from sklearn.model_selection import train_test_split\n",
    "from sklearn.metrics import accuracy_score, precision_score, recall_score, f1_score\n",
    "import tensorflow as tf\n",
    "from tensorflow.keras.models import Sequential\n",
    "from tensorflow.keras.layers import Dense\n",
    "\n",
    "features = ['posx', 'posy', 'spdx', 'spdy', 'spdx_n', 'spdy_n', 'aclx', 'acly', 'hedx', 'hedy', 'hedx_n', 'hedy_n']\n",
    "X = df[features]\n",
    "Y = (df['class'] != 0).astype(int)\n",
    "\n",
    "X_train, X_test, Y_train, Y_test = train_test_split(X, Y, test_size=0.2, random_state=42)\n",
    "\n",
    "model = Sequential([\n",
    "    Dense(64, input_shape=(len(features),), activation='relu'),\n",
    "    Dense(32, activation='relu'),\n",
    "    Dense(1, activation='sigmoid')\n",
    "])\n",
    "\n",
    "model.compile(optimizer='adam', loss='binary_crossentropy', metrics=['accuracy'])\n",
    "\n",
    "model.fit(X_train, Y_train, epochs=1, batch_size=32, validation_split=0.2)\n",
    "\n",
    "Y_pred_prob = model.predict(X_test)\n",
    "Y_pred = (Y_pred_prob > 0.5).astype(int)\n",
    "\n",
    "loss, accuracy = model.evaluate(X_test, Y_test)\n",
    "\n",
    "Y_test = np.squeeze(Y_test)\n",
    "Y_pred = np.squeeze(Y_pred)\n",
    "\n",
    "precision = precision_score(Y_test, Y_pred)\n",
    "recall = recall_score(Y_test, Y_pred)\n",
    "f1 = f1_score(Y_test, Y_pred)\n",
    "\n",
    "print(\"ANN Accuracy:\", accuracy)\n",
    "print(\"ANN Precision:\", precision)\n",
    "print(\"ANN Recall:\", recall)\n",
    "print(\"ANN F1-score:\", f1)"
   ]
  },
  {
   "cell_type": "code",
   "execution_count": 13,
   "id": "97b07971",
   "metadata": {},
   "outputs": [
    {
     "name": "stdout",
     "output_type": "stream",
     "text": [
      "63897/63897 [==============================] - 133s 2ms/step - loss: 0.5034 - accuracy: 0.7633 - val_loss: 0.4681 - val_accuracy: 0.7873\n",
      "19968/19968 [==============================] - 25s 1ms/step - loss: 0.4689 - accuracy: 0.7864\n",
      "CNN Accuracy: 0.7863503694534302\n",
      "CNN Precision: 0.4259238410894255\n",
      "CNN Recall: 0.7295506523659111\n",
      "CNN F1-score: 0.5378448730543025\n"
     ]
    }
   ],
   "source": [
    "import pandas as pd\n",
    "import numpy as np\n",
    "from sklearn.model_selection import train_test_split\n",
    "from sklearn.metrics import accuracy_score\n",
    "import tensorflow as tf\n",
    "from tensorflow.keras.models import Sequential\n",
    "from tensorflow.keras.layers import Conv1D, MaxPooling1D, Flatten, Dense\n",
    "from sklearn.metrics import precision_score, recall_score, f1_score\n",
    "\n",
    "features = ['posx', 'posy', 'spdx', 'spdy', 'spdx_n', 'spdy_n', 'aclx', 'acly', 'hedx', 'hedy', 'hedx_n', 'hedy_n']\n",
    "X = df[features].values\n",
    "Y = (df['class'] != 0).astype(int).values\n",
    "\n",
    "sequence_length = len(features)\n",
    "X = X.reshape(-1, sequence_length, 1)\n",
    "\n",
    "X_train, X_test, Y_train, Y_test = train_test_split(X, Y, test_size=0.2, random_state=42)\n",
    "\n",
    "model = Sequential([\n",
    "    Conv1D(filters=64, kernel_size=3, activation='relu', input_shape=(sequence_length, 1)),\n",
    "    MaxPooling1D(pool_size=2),\n",
    "    Flatten(),\n",
    "    Dense(64, activation='relu'),\n",
    "    Dense(1, activation='sigmoid')\n",
    "])\n",
    "\n",
    "model.compile(optimizer='adam', loss='binary_crossentropy', metrics=['accuracy'])\n",
    "\n",
    "model.fit(X_train, Y_train, epochs=1, batch_size=32, validation_split=0.2)\n",
    "\n",
    "Y_pred = model.predict(X_test)\n",
    "\n",
    "loss, accuracy = model.evaluate(X_test, Y_test)\n",
    "precision = precision_score(Y_test, Y_pred)\n",
    "recall = recall_score(Y_test, Y_pred)\n",
    "f1 = f1_score(Y_test, Y_pred)\n",
    "\n",
    "print(\"CNN Accuracy:\", accuracy)\n",
    "print(\"CNN Precision:\", precision)\n",
    "print(\"CNN Recall:\", recall)\n",
    "print(\"CNN F1-score:\", f1)"
   ]
  },
  {
   "cell_type": "code",
   "execution_count": 25,
   "id": "87d65d23",
   "metadata": {},
   "outputs": [
    {
     "name": "stdout",
     "output_type": "stream",
     "text": [
      "63897/63897 [==============================] - 328s 5ms/step - loss: 0.4828 - accuracy: 0.7761 - val_loss: 0.4673 - val_accuracy: 0.7870\n",
      "19968/19968 [==============================] - 48s 2ms/step\n",
      "19968/19968 [==============================] - 50s 2ms/step - loss: 0.4679 - accuracy: 0.7864\n",
      "LSTM Accuracy: 0.7864004373550415\n",
      "LSTM Precision: 0.9758150131347494\n",
      "LSTM Recall: 0.48566260552977975\n",
      "LSTM F1-score: 0.6485448093651341\n"
     ]
    }
   ],
   "source": [
    "import pandas as pd\n",
    "import numpy as np\n",
    "from sklearn.model_selection import train_test_split\n",
    "from sklearn.metrics import accuracy_score\n",
    "import tensorflow as tf\n",
    "from tensorflow.keras.models import Sequential\n",
    "from tensorflow.keras.layers import LSTM, Dense\n",
    "from sklearn.metrics import precision_score, recall_score, f1_score\n",
    "\n",
    "features = ['posx', 'posy', 'spdx', 'spdy', 'spdx_n', 'spdy_n', 'aclx', 'acly', 'hedx', 'hedy', 'hedx_n', 'hedy_n']\n",
    "X = df[features].values\n",
    "Y = (df['class'] != 0).astype(int).values\n",
    "\n",
    "sequence_length = len(features)\n",
    "X = X.reshape(-1, sequence_length, 1)\n",
    "\n",
    "X_train, X_test, Y_train, Y_test = train_test_split(X, Y, test_size=0.2, random_state=42)\n",
    "\n",
    "model = Sequential([\n",
    "    LSTM(64, input_shape=(sequence_length, 1)),\n",
    "    Dense(1, activation='sigmoid')\n",
    "])\n",
    "\n",
    "model.compile(optimizer='adam', loss='binary_crossentropy', metrics=['accuracy'])\n",
    "\n",
    "model.fit(X_train, Y_train, epochs=1, batch_size=32, validation_split=0.2)\n",
    "\n",
    "Y_pred_prob = model.predict(X_test)\n",
    "Y_pred = (Y_pred_prob > 0.5).astype(int)\n",
    "\n",
    "loss, accuracy = model.evaluate(X_test, Y_test)\n",
    "\n",
    "Y_test = np.squeeze(Y_test)\n",
    "Y_pred = np.squeeze(Y_pred)\n",
    "\n",
    "precision = precision_score(Y_test, Y_pred)\n",
    "recall = recall_score(Y_test, Y_pred)\n",
    "f1 = f1_score(Y_test, Y_pred)\n",
    "\n",
    "print(\"LSTM Accuracy:\", accuracy)\n",
    "print(\"LSTM Precision:\", precision)\n",
    "print(\"LSTM Recall:\", recall)\n",
    "print(\"LSTM F1-score:\", f1)"
   ]
  },
  {
   "cell_type": "markdown",
   "id": "ce0a4a35",
   "metadata": {},
   "source": [
    "### <a class=\"anchor\" id=\"bullet5-2\"><b>Section 5.2</b>: Classification (A Multi-class Classification Approach for Three Classes (MCATC))</a>\n",
    "\n",
    "<p>In this section, the classification requirement becomes more rigid: classifying all 20 autonomous driving behavior categories with three categories: normal behaviors, failues, and attacks.</p>"
   ]
  },
  {
   "cell_type": "code",
   "execution_count": 13,
   "id": "fb177cf3",
   "metadata": {},
   "outputs": [
    {
     "name": "stdout",
     "output_type": "stream",
     "text": [
      "Logistic Regression Accuracy: 0.6727958783151424\n",
      "Logistic Regression Precision: 0.7144357407883996\n",
      "Logistic Regression Recall: 0.6727958783151424\n",
      "Logistic Regression F1-score: 0.5863821709529868\n"
     ]
    }
   ],
   "source": [
    "import pandas as pd\n",
    "from sklearn.model_selection import train_test_split\n",
    "from sklearn.linear_model import LogisticRegression\n",
    "from sklearn.preprocessing import StandardScaler\n",
    "from sklearn.metrics import accuracy_score, precision_score, recall_score, f1_score\n",
    "\n",
    "def characterize_class(value):\n",
    "    if value == 0:\n",
    "        return 0\n",
    "    elif value >= 1 and value <= 12:\n",
    "        return 1\n",
    "    else:\n",
    "        return 2\n",
    "\n",
    "features = ['posx', 'posy', 'spdx', 'spdy', 'spdx_n', 'spdy_n', 'aclx', 'acly', 'hedx', 'hedy', 'hedx_n', 'hedy_n']\n",
    "X = df[features].values\n",
    "Y = df['class'].apply(characterize_class).astype(int).values\n",
    "\n",
    "scaler = StandardScaler()\n",
    "X_scaled = scaler.fit_transform(X)\n",
    "\n",
    "X_train, X_test, Y_train, Y_test = train_test_split(X_scaled, Y, test_size=0.2, random_state=42)\n",
    "\n",
    "lr = LogisticRegression(random_state=42)\n",
    "\n",
    "lr.fit(X_train, Y_train)\n",
    "\n",
    "Y_pred = lr.predict(X_test)\n",
    "\n",
    "accuracy = accuracy_score(Y_test, Y_pred)\n",
    "precision = precision_score(Y_test, Y_pred, average='weighted')\n",
    "recall = recall_score(Y_test, Y_pred, average='weighted')\n",
    "f1 = f1_score(Y_test, Y_pred, average='weighted')\n",
    "\n",
    "print(\"Logistic Regression Accuracy:\", accuracy)\n",
    "print(\"Logistic Regression Precision:\", precision)\n",
    "print(\"Logistic Regression Recall:\", recall)\n",
    "print(\"Logistic Regression F1-score:\", f1)"
   ]
  },
  {
   "cell_type": "code",
   "execution_count": 7,
   "id": "a596014e",
   "metadata": {},
   "outputs": [
    {
     "name": "stdout",
     "output_type": "stream",
     "text": [
      "*********\n",
      "KNN Accuracy when n_neighbors = 1 : 0.8036581205142089\n",
      "KNN Precision: 0.8076037445671809\n",
      "KNN Recall: 0.8036581205142089\n",
      "KNN F1-score: 0.8051581232902459\n",
      "*********\n",
      "KNN Accuracy when n_neighbors = 2 : 0.8305188727968174\n",
      "KNN Precision: 0.8278893696656892\n",
      "KNN Recall: 0.8305188727968174\n",
      "KNN F1-score: 0.8243814341087075\n",
      "*********\n",
      "KNN Accuracy when n_neighbors = 3 : 0.8250866248697105\n",
      "KNN Precision: 0.8232457862744831\n",
      "KNN Recall: 0.8250866248697105\n",
      "KNN F1-score: 0.8228626262531381\n",
      "*********\n",
      "KNN Accuracy when n_neighbors = 4 : 0.8282699127647654\n",
      "KNN Precision: 0.8246830658042921\n",
      "KNN Recall: 0.8282699127647654\n",
      "KNN F1-score: 0.8223258525523869\n",
      "*********\n",
      "KNN Accuracy when n_neighbors = 5 : 0.8204478513589227\n",
      "KNN Precision: 0.817456077133956\n",
      "KNN Recall: 0.8204478513589227\n",
      "KNN F1-score: 0.8159671502979492\n",
      "*********\n",
      "KNN Accuracy when n_neighbors = 6 : 0.8170626735236212\n",
      "KNN Precision: 0.8141582405479898\n",
      "KNN Recall: 0.8170626735236212\n",
      "KNN F1-score: 0.8089478789716388\n",
      "*********\n",
      "KNN Accuracy when n_neighbors = 7 : 0.8119559535621836\n",
      "KNN Precision: 0.8089869972377045\n",
      "KNN Recall: 0.8119559535621836\n",
      "KNN F1-score: 0.8049262195764044\n",
      "*********\n",
      "KNN Accuracy when n_neighbors = 8 : 0.8161126952776534\n",
      "KNN Precision: 0.8149373324344347\n",
      "KNN Recall: 0.8161126952776534\n",
      "KNN F1-score: 0.8062886872174996\n",
      "*********\n",
      "KNN Accuracy when n_neighbors = 9 : 0.8135585527777864\n",
      "KNN Precision: 0.8120946936534534\n",
      "KNN Recall: 0.8135585527777864\n",
      "KNN F1-score: 0.8043231082877632\n",
      "*********\n",
      "KNN Accuracy when n_neighbors = 10 : 0.8143222914664722\n",
      "KNN Precision: 0.8145200058826919\n",
      "KNN Recall: 0.8143222914664722\n",
      "KNN F1-score: 0.8032594605334513\n",
      "*********\n"
     ]
    }
   ],
   "source": [
    "import pandas as pd\n",
    "from sklearn.model_selection import train_test_split\n",
    "from sklearn.neighbors import KNeighborsClassifier\n",
    "from sklearn.metrics import accuracy_score\n",
    "from sklearn.metrics import precision_score, recall_score, f1_score\n",
    "import warnings\n",
    "\n",
    "warnings.filterwarnings(\"ignore\", category=FutureWarning)\n",
    "\n",
    "def characterize_class(value):\n",
    "    if value == 0:\n",
    "        return 0\n",
    "    elif value >= 1 and value <= 12:\n",
    "        return 1\n",
    "    else:\n",
    "        return 2\n",
    "\n",
    "features = ['posx', 'posy', 'spdx', 'spdy', 'spdx_n', 'spdy_n', 'aclx', 'acly', 'hedx', 'hedy', 'hedx_n', 'hedy_n']\n",
    "X = df[features].values\n",
    "Y = df['class'].apply(characterize_class).astype(int).values\n",
    "X_train, X_test, Y_train, Y_test = train_test_split(X, Y, test_size=0.2, random_state=42)\n",
    "\n",
    "n_neighbor_amount = 1\n",
    "\n",
    "print(\"*********\")\n",
    "while n_neighbor_amount < 11:\n",
    "    knn = KNeighborsClassifier(n_neighbors=n_neighbor_amount)\n",
    "    knn.fit(X_train, Y_train)\n",
    "    Y_pred = knn.predict(X_test)\n",
    "    accuracy = accuracy_score(Y_test, Y_pred)\n",
    "    print(\"KNN Accuracy when n_neighbors =\", n_neighbor_amount, \":\", accuracy)\n",
    "    precision = precision_score(Y_test, Y_pred, average='weighted')\n",
    "    recall = recall_score(Y_test, Y_pred, average='weighted')\n",
    "    f1 = f1_score(Y_test, Y_pred, average='weighted')\n",
    "\n",
    "    print(\"KNN Precision:\", precision)\n",
    "    print(\"KNN Recall:\", recall)\n",
    "    print(\"KNN F1-score:\", f1)\n",
    "    print(\"*********\")\n",
    "    n_neighbor_amount += 1"
   ]
  },
  {
   "cell_type": "code",
   "execution_count": 28,
   "id": "31f3503b",
   "metadata": {},
   "outputs": [
    {
     "name": "stdout",
     "output_type": "stream",
     "text": [
      "Random Forest Accuracy: 0.8766327262028102\n",
      "Random Forest Precision: 0.8753626296557379\n",
      "Random Forest Recall: 0.8766327262028102\n",
      "Random Forest F1-score: 0.8748071010469464\n"
     ]
    }
   ],
   "source": [
    "import pandas as pd\n",
    "from sklearn.model_selection import train_test_split\n",
    "from sklearn.ensemble import RandomForestClassifier\n",
    "from sklearn.metrics import accuracy_score\n",
    "from sklearn.metrics import precision_score, recall_score, f1_score\n",
    "\n",
    "def characterize_class(value):\n",
    "    if value == 0:\n",
    "        return 0\n",
    "    elif value >= 1 and value <= 12:\n",
    "        return 1\n",
    "    else:\n",
    "        return 2\n",
    "\n",
    "features = ['posx', 'posy', 'spdx', 'spdy', 'spdx_n', 'spdy_n', 'aclx', 'acly', 'hedx', 'hedy', 'hedx_n', 'hedy_n']\n",
    "X = df[features].values\n",
    "Y = df['class'].apply(characterize_class).astype(int).values\n",
    "X_train, X_test, Y_train, Y_test = train_test_split(X, Y, test_size=0.2, random_state=42)\n",
    "\n",
    "rf = RandomForestClassifier(n_estimators=15, random_state=42)\n",
    "\n",
    "rf.fit(X_train, Y_train)\n",
    "\n",
    "Y_pred = rf.predict(X_test)\n",
    "\n",
    "accuracy = accuracy_score(Y_test, Y_pred)\n",
    "precision = precision_score(Y_test, Y_pred, average='weighted')\n",
    "recall = recall_score(Y_test, Y_pred, average='weighted')\n",
    "f1 = f1_score(Y_test, Y_pred, average='weighted')\n",
    "\n",
    "print(\"Random Forest Accuracy:\", accuracy)\n",
    "print(\"Random Forest Precision:\", precision)\n",
    "print(\"Random Forest Recall:\", recall)\n",
    "print(\"Random Forest F1-score:\", f1)"
   ]
  },
  {
   "cell_type": "code",
   "execution_count": 29,
   "id": "dccdb449",
   "metadata": {},
   "outputs": [
    {
     "name": "stdout",
     "output_type": "stream",
     "text": [
      "Decision Tree Accuracy: 0.8354252678563044\n",
      "Decision Tree Precision: 0.8374746535466164\n",
      "Decision Tree Recall: 0.8354252678563044\n",
      "Decision Tree F1-score: 0.836252319094726\n"
     ]
    }
   ],
   "source": [
    "import pandas as pd\n",
    "from sklearn.model_selection import train_test_split\n",
    "from sklearn.tree import DecisionTreeClassifier\n",
    "from sklearn.metrics import accuracy_score\n",
    "from sklearn.metrics import precision_score, recall_score, f1_score\n",
    "\n",
    "def characterize_class(value):\n",
    "    if value == 0:\n",
    "        return 0\n",
    "    elif value >= 1 and value <= 12:\n",
    "        return 1\n",
    "    else:\n",
    "        return 2\n",
    "\n",
    "features = ['posx', 'posy', 'spdx', 'spdy', 'spdx_n', 'spdy_n', 'aclx', 'acly', 'hedx', 'hedy', 'hedx_n', 'hedy_n']\n",
    "X = df[features].values\n",
    "Y = df['class'].apply(characterize_class).astype(int).values\n",
    "X_train, X_test, Y_train, Y_test = train_test_split(X, Y, test_size=0.2, random_state=42)\n",
    "\n",
    "dt = DecisionTreeClassifier(random_state=42)\n",
    "\n",
    "dt.fit(X_train, Y_train)\n",
    "\n",
    "Y_pred = dt.predict(X_test)\n",
    "\n",
    "accuracy = accuracy_score(Y_test, Y_pred)\n",
    "precision = precision_score(Y_test, Y_pred, average='weighted')\n",
    "recall = recall_score(Y_test, Y_pred, average='weighted')\n",
    "f1 = f1_score(Y_test, Y_pred, average='weighted')\n",
    "\n",
    "print(\"Decision Tree Accuracy:\", accuracy)\n",
    "print(\"Decision Tree Precision:\", precision)\n",
    "print(\"Decision Tree Recall:\", recall)\n",
    "print(\"Decision Tree F1-score:\", f1)"
   ]
  },
  {
   "cell_type": "code",
   "execution_count": 30,
   "id": "808b9887",
   "metadata": {},
   "outputs": [
    {
     "name": "stdout",
     "output_type": "stream",
     "text": [
      "Naive Bayes Accuracy: 0.6585289892043659\n",
      "Naive Bayes Precision: 0.6730747397450801\n",
      "Naive Bayes Recall: 0.6585289892043659\n",
      "Naive Bayes F1-score: 0.5739686501419263\n"
     ]
    }
   ],
   "source": [
    "import pandas as pd\n",
    "from sklearn.model_selection import train_test_split\n",
    "from sklearn.naive_bayes import GaussianNB\n",
    "from sklearn.metrics import accuracy_score\n",
    "from sklearn.metrics import precision_score, recall_score, f1_score\n",
    "\n",
    "def characterize_class(value):\n",
    "    if value == 0:\n",
    "        return 0\n",
    "    elif value >= 1 and value <= 12:\n",
    "        return 1\n",
    "    else:\n",
    "        return 2\n",
    "\n",
    "features = ['posx', 'posy', 'spdx', 'spdy', 'spdx_n', 'spdy_n', 'aclx', 'acly', 'hedx', 'hedy', 'hedx_n', 'hedy_n']\n",
    "X = df[features].values\n",
    "Y = df['class'].apply(characterize_class).astype(int).values\n",
    "X_train, X_test, Y_train, Y_test = train_test_split(X, Y, test_size=0.2, random_state=42)\n",
    "\n",
    "nb = GaussianNB()\n",
    "\n",
    "nb.fit(X_train, Y_train)\n",
    "\n",
    "Y_pred = nb.predict(X_test)\n",
    "\n",
    "accuracy = accuracy_score(Y_test, Y_pred)\n",
    "precision = precision_score(Y_test, Y_pred, average='weighted')\n",
    "recall = recall_score(Y_test, Y_pred, average='weighted')\n",
    "f1 = f1_score(Y_test, Y_pred, average='weighted')\n",
    "\n",
    "print(\"Naive Bayes Accuracy:\", accuracy)\n",
    "print(\"Naive Bayes Precision:\", precision)\n",
    "print(\"Naive Bayes Recall:\", recall)\n",
    "print(\"Naive Bayes F1-score:\", f1)"
   ]
  },
  {
   "cell_type": "code",
   "execution_count": 8,
   "id": "42c0da32",
   "metadata": {},
   "outputs": [
    {
     "name": "stderr",
     "output_type": "stream",
     "text": [
      "C:\\Users\\david\\anaconda3\\lib\\site-packages\\sklearn\\neural_network\\_multilayer_perceptron.py:699: UserWarning: Training interrupted by user.\n",
      "  warnings.warn(\"Training interrupted by user.\")\n"
     ]
    },
    {
     "name": "stdout",
     "output_type": "stream",
     "text": [
      "MLP Accuracy: 0.790485193172677\n",
      "MLP Precision: 0.8197971427568225\n",
      "MLP Recall: 0.790485193172677\n",
      "MLP F1-score: 0.7694522000293174\n"
     ]
    }
   ],
   "source": [
    "import pandas as pd\n",
    "from sklearn.model_selection import train_test_split\n",
    "from sklearn.neural_network import MLPClassifier\n",
    "from sklearn.metrics import accuracy_score\n",
    "from sklearn.metrics import precision_score, recall_score, f1_score\n",
    "from sklearn.preprocessing import StandardScaler\n",
    "\n",
    "def characterize_class(value):\n",
    "    if value == 0:\n",
    "        return 0\n",
    "    elif value >= 1 and value <= 12:\n",
    "        return 1\n",
    "    else:\n",
    "        return 2\n",
    "\n",
    "features = ['posx', 'posy', 'spdx', 'spdy', 'spdx_n', 'spdy_n', 'aclx', 'acly', 'hedx', 'hedy', 'hedx_n', 'hedy_n']\n",
    "X = df[features].values\n",
    "Y = df['class'].apply(characterize_class).astype(int).values\n",
    "\n",
    "scaler = StandardScaler()\n",
    "X_scaled = scaler.fit_transform(X)\n",
    "\n",
    "X_train, X_test, Y_train, Y_test = train_test_split(X_scaled, Y, test_size=0.2, random_state=42)\n",
    "\n",
    "mlp = MLPClassifier(hidden_layer_sizes=(100, 50), activation='relu', solver='adam', random_state=42)\n",
    "\n",
    "mlp.fit(X_train, Y_train)\n",
    "\n",
    "Y_pred = mlp.predict(X_test)\n",
    "\n",
    "accuracy = accuracy_score(Y_test, Y_pred)\n",
    "precision = precision_score(Y_test, Y_pred, average='weighted')\n",
    "recall = recall_score(Y_test, Y_pred, average='weighted')\n",
    "f1 = f1_score(Y_test, Y_pred, average='weighted')\n",
    "\n",
    "print(\"MLP Accuracy:\", accuracy)\n",
    "print(\"MLP Precision:\", precision)\n",
    "print(\"MLP Recall:\", recall)\n",
    "print(\"MLP F1-score:\", f1)"
   ]
  },
  {
   "cell_type": "code",
   "execution_count": 21,
   "id": "be97c62f",
   "metadata": {},
   "outputs": [
    {
     "name": "stdout",
     "output_type": "stream",
     "text": [
      "Train on 2044676 samples, validate on 511170 samples\n",
      "2042912/2044676 [============================>.] - ETA: 0s - loss: -21592525.0058 - acc: 0.3355"
     ]
    },
    {
     "name": "stderr",
     "output_type": "stream",
     "text": [
      "C:\\Users\\david\\anaconda3\\lib\\site-packages\\keras\\src\\engine\\training_v1.py:2335: UserWarning: `Model.state_updates` will be removed in a future version. This property should not be used in TensorFlow 2.0, as `updates` are applied automatically.\n",
      "  updates = self.state_updates\n"
     ]
    },
    {
     "name": "stdout",
     "output_type": "stream",
     "text": [
      "\b\b\b\b\b\b\b\b\b\b\b\b\b\b\b\b\b\b\b\b\b\b\b\b\b\b\b\b\b\b\b\b\b\b\b\b\b\b\b\b\b\b\b\b\b\b\b\b\b\b\b\b\b\b\b\b\b\b\b\b\b\b\b\b\b\b\b\b\b\b\b\b\b\b\b\b\b\b\b\b\b\b\b\b\b\b\b\b\b\b\b\b\b\b\b\r",
      "2044676/2044676 [==============================] - 67s 33us/sample - loss: -21642575.4449 - acc: 0.3355 - val_loss: -83544123.4203 - val_acc: 0.3725\n"
     ]
    },
    {
     "name": "stderr",
     "output_type": "stream",
     "text": [
      "C:\\Users\\david\\anaconda3\\lib\\site-packages\\keras\\src\\engine\\training_v1.py:2359: UserWarning: `Model.state_updates` will be removed in a future version. This property should not be used in TensorFlow 2.0, as `updates` are applied automatically.\n",
      "  updates=self.state_updates,\n"
     ]
    },
    {
     "name": "stdout",
     "output_type": "stream",
     "text": [
      "ANN Accuracy: 0.37111753\n",
      "ANN Precision: 0.6776982745650227\n",
      "ANN Recall: 0.37111753124598956\n",
      "ANN F1-score: 0.36118280116010315\n"
     ]
    }
   ],
   "source": [
    "import pandas as pd\n",
    "import numpy as np\n",
    "from sklearn.model_selection import train_test_split\n",
    "from sklearn.metrics import accuracy_score\n",
    "from sklearn.metrics import precision_score, recall_score, f1_score\n",
    "import tensorflow as tf\n",
    "import tensorflow.compat.v1 as tfcv\n",
    "from tensorflow.keras.models import Sequential\n",
    "from tensorflow.keras.layers import Dense\n",
    "import warnings\n",
    "\n",
    "warnings.filterwarnings(\"ignore\", category=FutureWarning)\n",
    "\n",
    "tfcv.disable_v2_behavior()\n",
    "\n",
    "def characterize_class(value):\n",
    "    if value == 0:\n",
    "        return 0\n",
    "    elif value >= 1 and value <= 12:\n",
    "        return 1\n",
    "    else:\n",
    "        return 2\n",
    "\n",
    "features = ['posx', 'posy', 'spdx', 'spdy', 'spdx_n', 'spdy_n', 'aclx', 'acly', 'hedx', 'hedy', 'hedx_n', 'hedy_n']\n",
    "X = df[features]\n",
    "Y = df['class'].apply(characterize_class).astype(int).values\n",
    "\n",
    "X_train, X_test, Y_train, Y_test = train_test_split(X, Y, test_size=0.2, random_state=42)\n",
    "\n",
    "model = Sequential([\n",
    "    Dense(64, input_shape=(len(features),), activation='relu'),\n",
    "    Dense(32, activation='relu'),\n",
    "    Dense(1, activation='sigmoid')\n",
    "])\n",
    "\n",
    "model.compile(optimizer='adam', loss='binary_crossentropy', metrics=['accuracy'])\n",
    "\n",
    "model.fit(X_train, Y_train, epochs=1, batch_size=32, validation_split=0.2)\n",
    "\n",
    "Y_pred_prob = model.predict(X_test)\n",
    "Y_pred = (Y_pred_prob > 0.5).astype(int)\n",
    "\n",
    "loss, accuracy = model.evaluate(X_test, Y_test)\n",
    "\n",
    "Y_test = np.squeeze(Y_test)\n",
    "Y_pred = np.squeeze(Y_pred)\n",
    "\n",
    "precision = precision_score(Y_test, Y_pred, average='weighted', zero_division=1)\n",
    "recall = recall_score(Y_test, Y_pred, average='weighted')\n",
    "f1 = f1_score(Y_test, Y_pred, average='weighted')\n",
    "\n",
    "print(\"ANN Accuracy:\", accuracy)\n",
    "print(\"ANN Precision:\", precision)\n",
    "print(\"ANN Recall:\", recall)\n",
    "print(\"ANN F1-score:\", f1)"
   ]
  },
  {
   "cell_type": "code",
   "execution_count": 24,
   "id": "e8a2bd83",
   "metadata": {
    "scrolled": true
   },
   "outputs": [
    {
     "name": "stdout",
     "output_type": "stream",
     "text": [
      "Train on 2044676 samples, validate on 511170 samples\n",
      "2044480/2044676 [============================>.] - ETA: 0s - loss: -18682453.8415 - acc: 0.3357"
     ]
    },
    {
     "name": "stderr",
     "output_type": "stream",
     "text": [
      "C:\\Users\\david\\anaconda3\\lib\\site-packages\\keras\\src\\engine\\training_v1.py:2335: UserWarning: `Model.state_updates` will be removed in a future version. This property should not be used in TensorFlow 2.0, as `updates` are applied automatically.\n",
      "  updates = self.state_updates\n"
     ]
    },
    {
     "name": "stdout",
     "output_type": "stream",
     "text": [
      "\b\b\b\b\b\b\b\b\b\b\b\b\b\b\b\b\b\b\b\b\b\b\b\b\b\b\b\b\b\b\b\b\b\b\b\b\b\b\b\b\b\b\b\b\b\b\b\b\b\b\b\b\b\b\b\b\b\b\b\b\b\b\b\b\b\b\b\b\b\b\b\b\b\b\b\b\b\b\b\b\b\b\b\b\b\b\b\b\b\b\b\b\b\b\b\r",
      "2044676/2044676 [==============================] - 110s 54us/sample - loss: -18685289.8329 - acc: 0.3357 - val_loss: -70642384.9039 - val_acc: 0.3376\n"
     ]
    },
    {
     "name": "stderr",
     "output_type": "stream",
     "text": [
      "C:\\Users\\david\\anaconda3\\lib\\site-packages\\keras\\src\\engine\\training_v1.py:2359: UserWarning: `Model.state_updates` will be removed in a future version. This property should not be used in TensorFlow 2.0, as `updates` are applied automatically.\n",
      "  updates=self.state_updates,\n"
     ]
    },
    {
     "name": "stdout",
     "output_type": "stream",
     "text": [
      "CNN Accuracy: 0.3364316\n",
      "CNN Precision: 0.6569807298217154\n",
      "CNN Recall: 0.33643158748094565\n",
      "CNN F1-score: 0.32793673276113006\n"
     ]
    }
   ],
   "source": [
    "import pandas as pd\n",
    "import numpy as np\n",
    "from sklearn.model_selection import train_test_split\n",
    "from sklearn.metrics import accuracy_score\n",
    "from sklearn.metrics import precision_score, recall_score, f1_score\n",
    "import tensorflow as tf\n",
    "from tensorflow.keras.models import Sequential\n",
    "from tensorflow.keras.layers import Conv1D, MaxPooling1D, Flatten, Dense\n",
    "import warnings\n",
    "\n",
    "warnings.filterwarnings(\"ignore\", message=\"From .*: The name tf.nn.max_pool is deprecated.\")\n",
    "\n",
    "def characterize_class(value):\n",
    "    if value == 0:\n",
    "        return 0\n",
    "    elif value >= 1 and value <= 12:\n",
    "        return 1\n",
    "    else:\n",
    "        return 2\n",
    "\n",
    "features = ['posx', 'posy', 'spdx', 'spdy', 'spdx_n', 'spdy_n', 'aclx', 'acly', 'hedx', 'hedy', 'hedx_n', 'hedy_n']\n",
    "X = df[features].values\n",
    "Y = df['class'].apply(characterize_class).astype(int).values\n",
    "\n",
    "sequence_length = len(features)\n",
    "X = X.reshape(-1, sequence_length, 1)\n",
    "\n",
    "X_train, X_test, Y_train, Y_test = train_test_split(X, Y, test_size=0.2, random_state=42)\n",
    "\n",
    "model = Sequential([\n",
    "    Conv1D(filters=64, kernel_size=3, activation='relu', input_shape=(sequence_length, 1)),\n",
    "    MaxPooling1D(pool_size=2),\n",
    "    Flatten(),\n",
    "    Dense(64, activation='relu'),\n",
    "    Dense(1, activation='sigmoid')\n",
    "])\n",
    "\n",
    "model.compile(optimizer='adam', loss='binary_crossentropy', metrics=['accuracy'])\n",
    "\n",
    "model.fit(X_train, Y_train, epochs=1, batch_size=32, validation_split=0.2)\n",
    "\n",
    "Y_pred_prob = model.predict(X_test)\n",
    "Y_pred = (Y_pred_prob > 0.5).astype(int)\n",
    "\n",
    "loss, accuracy = model.evaluate(X_test, Y_test)\n",
    "\n",
    "Y_test = np.squeeze(Y_test)\n",
    "Y_pred = np.squeeze(Y_pred)\n",
    "\n",
    "precision = precision_score(Y_test, Y_pred, average='weighted', zero_division=1)\n",
    "recall = recall_score(Y_test, Y_pred, average='weighted')\n",
    "f1 = f1_score(Y_test, Y_pred, average='weighted')\n",
    "\n",
    "print(\"CNN Accuracy:\", accuracy)\n",
    "print(\"CNN Precision:\", precision)\n",
    "print(\"CNN Recall:\", recall)\n",
    "print(\"CNN F1-score:\", f1)"
   ]
  },
  {
   "cell_type": "code",
   "execution_count": 23,
   "id": "722a9fdc",
   "metadata": {},
   "outputs": [
    {
     "name": "stdout",
     "output_type": "stream",
     "text": [
      "Train on 2044676 samples, validate on 511170 samples\n",
      "2044352/2044676 [============================>.] - ETA: 0s - loss: -157.0326 - acc: 0.4527"
     ]
    },
    {
     "name": "stderr",
     "output_type": "stream",
     "text": [
      "C:\\Users\\david\\anaconda3\\lib\\site-packages\\keras\\src\\engine\\training_v1.py:2335: UserWarning: `Model.state_updates` will be removed in a future version. This property should not be used in TensorFlow 2.0, as `updates` are applied automatically.\n",
      "  updates = self.state_updates\n"
     ]
    },
    {
     "name": "stdout",
     "output_type": "stream",
     "text": [
      "\b\b\b\b\b\b\b\b\b\b\b\b\b\b\b\b\b\b\b\b\b\b\b\b\b\b\b\b\b\b\b\b\b\b\b\b\b\b\b\b\b\b\b\b\b\b\b\b\b\b\b\b\b\b\b\b\b\b\b\b\b\b\b\b\b\b\b\b\b\b\b\b\b\b\b\b\b\b\b\b\b\b\b\b\b\b\b\b\b\b\r",
      "2044676/2044676 [==============================] - 311s 152us/sample - loss: -157.0772 - acc: 0.4527 - val_loss: -334.5553 - val_acc: 0.5166\n"
     ]
    },
    {
     "name": "stderr",
     "output_type": "stream",
     "text": [
      "C:\\Users\\david\\anaconda3\\lib\\site-packages\\keras\\src\\engine\\training_v1.py:2359: UserWarning: `Model.state_updates` will be removed in a future version. This property should not be used in TensorFlow 2.0, as `updates` are applied automatically.\n",
      "  updates=self.state_updates,\n"
     ]
    },
    {
     "name": "stdout",
     "output_type": "stream",
     "text": [
      "LSTM Accuracy: 0.5162091\n",
      "LSTM Precision: 0.71346929809309\n",
      "LSTM Recall: 0.5162091016367171\n",
      "LSTM F1-score: 0.4803191616109452\n"
     ]
    }
   ],
   "source": [
    "import pandas as pd\n",
    "import numpy as np\n",
    "from sklearn.model_selection import train_test_split\n",
    "from sklearn.metrics import accuracy_score\n",
    "from sklearn.metrics import precision_score, recall_score, f1_score\n",
    "import tensorflow as tf\n",
    "from tensorflow.keras.models import Sequential\n",
    "from tensorflow.keras.layers import LSTM, Dense\n",
    "\n",
    "def characterize_class(value):\n",
    "    if value == 0:\n",
    "        return 0\n",
    "    elif value >= 1 and value <= 12:\n",
    "        return 1\n",
    "    else:\n",
    "        return 2\n",
    "\n",
    "features = ['posx', 'posy', 'spdx', 'spdy', 'spdx_n', 'spdy_n', 'aclx', 'acly', 'hedx', 'hedy', 'hedx_n', 'hedy_n']\n",
    "X = df[features].values\n",
    "Y = df['class'].apply(characterize_class).astype(int).values\n",
    "\n",
    "sequence_length = len(features)\n",
    "X = X.reshape(-1, sequence_length, 1)\n",
    "\n",
    "X_train, X_test, Y_train, Y_test = train_test_split(X, Y, test_size=0.2, random_state=42)\n",
    "\n",
    "model = Sequential([\n",
    "    LSTM(64, input_shape=(sequence_length, 1)),\n",
    "    Dense(1, activation='sigmoid')\n",
    "])\n",
    "\n",
    "model.compile(optimizer='adam', loss='binary_crossentropy', metrics=['accuracy'])\n",
    "\n",
    "model.fit(X_train, Y_train, epochs=1, batch_size=32, validation_split=0.2)\n",
    "\n",
    "Y_pred_prob = model.predict(X_test)\n",
    "Y_pred = (Y_pred_prob > 0.5).astype(int)\n",
    "\n",
    "loss, accuracy = model.evaluate(X_test, Y_test)\n",
    "\n",
    "Y_test = np.squeeze(Y_test)\n",
    "Y_pred = np.squeeze(Y_pred)\n",
    "\n",
    "precision = precision_score(Y_test, Y_pred, average='weighted', zero_division=1)\n",
    "recall = recall_score(Y_test, Y_pred, average='weighted')\n",
    "f1 = f1_score(Y_test, Y_pred, average='weighted')\n",
    "\n",
    "print(\"LSTM Accuracy:\", accuracy)\n",
    "print(\"LSTM Precision:\", precision)\n",
    "print(\"LSTM Recall:\", recall)\n",
    "print(\"LSTM F1-score:\", f1)"
   ]
  },
  {
   "cell_type": "markdown",
   "id": "7ad0e507",
   "metadata": {},
   "source": [
    "### <a class=\"anchor\" id=\"bullet5-3\"><b>Section 5.3</b>: Classification (A Classic Learning Approach for Multi-class classification (C-LAMC))</a>\n",
    "<p>From section 5.2, the classification requirement becomes more rigid: classifying all 20 autonomous driving behavior categories individually.</p>"
   ]
  },
  {
   "cell_type": "code",
   "execution_count": 10,
   "id": "f4e4172e",
   "metadata": {},
   "outputs": [
    {
     "name": "stdout",
     "output_type": "stream",
     "text": [
      "Logistic Regression Accuracy: 0.6344414847831327\n",
      "Logistic Regression Precision: 0.6344414847831327\n",
      "Logistic Regression Recall: 0.6344414847831327\n",
      "Logistic Regression F1-score: 0.6344414847831327\n"
     ]
    }
   ],
   "source": [
    "from sklearn.metrics import precision_score, recall_score, f1_score\n",
    "import pandas as pd\n",
    "from sklearn.model_selection import train_test_split\n",
    "from sklearn.linear_model import LogisticRegression\n",
    "from sklearn.metrics import accuracy_score\n",
    "from sklearn.preprocessing import StandardScaler\n",
    "\n",
    "features = ['posx', 'posy', 'spdx', 'spdy', 'spdx_n', 'spdy_n', 'aclx', 'acly', 'hedx', 'hedy', 'hedx_n', 'hedy_n']\n",
    "X = df[features]\n",
    "Y = df['class'].astype(int)\n",
    "\n",
    "scaler = StandardScaler()\n",
    "X_scaled = scaler.fit_transform(X)\n",
    "\n",
    "X_train, X_test, Y_train, Y_test = train_test_split(X_scaled, Y, test_size=0.2, random_state=42)\n",
    "\n",
    "lr = LogisticRegression(random_state=42, max_iter=1000)\n",
    "\n",
    "lr.fit(X_train, Y_train)\n",
    "\n",
    "Y_pred = lr.predict(X_test)\n",
    "\n",
    "accuracy = accuracy_score(Y_test, Y_pred)\n",
    "precision = precision_score(Y_test, Y_pred, average='micro')\n",
    "recall = recall_score(Y_test, Y_pred, average='micro')\n",
    "f1 = f1_score(Y_test, Y_pred, average='micro')\n",
    "\n",
    "print(\"Logistic Regression Accuracy:\", accuracy)\n",
    "print(\"Logistic Regression Precision:\", precision)\n",
    "print(\"Logistic Regression Recall:\", recall)\n",
    "print(\"Logistic Regression F1-score:\", f1)"
   ]
  },
  {
   "cell_type": "code",
   "execution_count": 11,
   "id": "738c124f",
   "metadata": {},
   "outputs": [
    {
     "name": "stdout",
     "output_type": "stream",
     "text": [
      "*********\n",
      "KNN Accuracy when n_neighbors = 1 : 0.7322313377008335\n",
      "KNN Precision: 0.7436785051096729\n",
      "KNN Recall: 0.7322313377008335\n",
      "KNN F1-score: 0.7366468354220451\n",
      "*********\n",
      "KNN Accuracy when n_neighbors = 2 : 0.7704605281691242\n",
      "KNN Precision: 0.7475046182635735\n",
      "KNN Recall: 0.7704605281691242\n",
      "KNN F1-score: 0.7512363968990194\n",
      "*********\n",
      "KNN Accuracy when n_neighbors = 3 : 0.761569545606781\n",
      "KNN Precision: 0.7470172448394834\n",
      "KNN Recall: 0.761569545606781\n",
      "KNN F1-score: 0.7498129283349223\n",
      "*********\n",
      "KNN Accuracy when n_neighbors = 4 : 0.7663773432535894\n",
      "KNN Precision: 0.7434012920350344\n",
      "KNN Recall: 0.7663773432535894\n",
      "KNN F1-score: 0.7475910810757723\n",
      "*********\n",
      "KNN Accuracy when n_neighbors = 5 : 0.7592376385450152\n",
      "KNN Precision: 0.736476982590807\n",
      "KNN Recall: 0.7592376385450152\n",
      "KNN F1-score: 0.7408182090161983\n",
      "*********\n",
      "KNN Accuracy when n_neighbors = 6 : 0.7553735589909885\n",
      "KNN Precision: 0.7249944016236805\n",
      "KNN Recall: 0.7553735589909885\n",
      "KNN F1-score: 0.7295217899426095\n",
      "*********\n",
      "KNN Accuracy when n_neighbors = 7 : 0.7500367783999674\n",
      "KNN Precision: 0.7180533110673323\n",
      "KNN Recall: 0.7500367783999674\n",
      "KNN F1-score: 0.7231812252514361\n",
      "*********\n",
      "KNN Accuracy when n_neighbors = 8 : 0.7542764671451511\n",
      "KNN Precision: 0.7193315937660962\n",
      "KNN Recall: 0.7542764671451511\n",
      "KNN F1-score: 0.7219973277211644\n",
      "*********\n",
      "KNN Accuracy when n_neighbors = 9 : 0.7540198008645271\n",
      "KNN Precision: 0.7193941607370556\n",
      "KNN Recall: 0.7540198008645271\n",
      "KNN F1-score: 0.7202180946772322\n",
      "*********\n",
      "KNN Accuracy when n_neighbors = 10 : 0.7540636219368287\n",
      "KNN Precision: 0.7190189381055843\n",
      "KNN Recall: 0.7540636219368287\n",
      "KNN F1-score: 0.7172663228032942\n",
      "*********\n"
     ]
    }
   ],
   "source": [
    "import pandas as pd\n",
    "from sklearn.model_selection import train_test_split\n",
    "from sklearn.neighbors import KNeighborsClassifier\n",
    "from sklearn.metrics import accuracy_score\n",
    "\n",
    "warnings.filterwarnings(\"ignore\", category=FutureWarning)\n",
    "\n",
    "features = ['posx', 'posy', 'spdx', 'spdy', 'spdx_n', 'spdy_n', 'aclx', 'acly', 'hedx', 'hedy', 'hedx_n', 'hedy_n']\n",
    "X = df[features]\n",
    "Y = df['class'].astype(int)\n",
    "\n",
    "X_train, X_test, Y_train, Y_test = train_test_split(X, Y, test_size=0.2, random_state=42)\n",
    "\n",
    "n_neighbor_amount = 1\n",
    "\n",
    "print(\"*********\")\n",
    "while n_neighbor_amount < 11:\n",
    "    knn = KNeighborsClassifier(n_neighbors=n_neighbor_amount)\n",
    "    knn.fit(X_train, Y_train)\n",
    "    Y_pred = knn.predict(X_test)\n",
    "    accuracy = accuracy_score(Y_test, Y_pred)\n",
    "    print(\"KNN Accuracy when n_neighbors =\", n_neighbor_amount, \":\", accuracy)\n",
    "    precision = precision_score(Y_test, Y_pred, average='weighted')\n",
    "    recall = recall_score(Y_test, Y_pred, average='weighted')\n",
    "    f1 = f1_score(Y_test, Y_pred, average='weighted')\n",
    "\n",
    "    print(\"KNN Precision:\", precision)\n",
    "    print(\"KNN Recall:\", recall)\n",
    "    print(\"KNN F1-score:\", f1)\n",
    "    print(\"*********\")\n",
    "    n_neighbor_amount += 1"
   ]
  },
  {
   "cell_type": "code",
   "execution_count": 12,
   "id": "5c1a564a",
   "metadata": {},
   "outputs": [
    {
     "name": "stdout",
     "output_type": "stream",
     "text": [
      "Random Forest Accuracy: 0.8264544683408404\n",
      "Random Forest Precision: 0.8203597379628255\n",
      "Random Forest Recall: 0.8264544683408404\n",
      "Random Forest F1-score: 0.8195545794290235\n"
     ]
    }
   ],
   "source": [
    "import pandas as pd\n",
    "from sklearn.model_selection import train_test_split\n",
    "from sklearn.ensemble import RandomForestClassifier\n",
    "from sklearn.metrics import accuracy_score\n",
    "\n",
    "features = ['posx', 'posy', 'spdx', 'spdy', 'spdx_n', 'spdy_n', 'aclx', 'acly', 'hedx', 'hedy', 'hedx_n', 'hedy_n']\n",
    "X = df[features]\n",
    "Y = df['class'].astype(int)\n",
    "\n",
    "X_train, X_test, Y_train, Y_test = train_test_split(X, Y, test_size=0.2, random_state=42)\n",
    "\n",
    "rf = RandomForestClassifier(n_estimators=10, random_state=42)\n",
    "\n",
    "rf.fit(X_train, Y_train)\n",
    "\n",
    "Y_pred = rf.predict(X_test)\n",
    "\n",
    "accuracy = accuracy_score(Y_test, Y_pred)\n",
    "precision = precision_score(Y_test, Y_pred, average='weighted')\n",
    "recall = recall_score(Y_test, Y_pred, average='weighted')\n",
    "f1 = f1_score(Y_test, Y_pred, average='weighted')\n",
    "\n",
    "print(\"Random Forest Accuracy:\", accuracy)\n",
    "print(\"Random Forest Precision:\", precision)\n",
    "print(\"Random Forest Recall:\", recall)\n",
    "print(\"Random Forest F1-score:\", f1)"
   ]
  },
  {
   "cell_type": "code",
   "execution_count": 13,
   "id": "21f95b51",
   "metadata": {},
   "outputs": [
    {
     "name": "stdout",
     "output_type": "stream",
     "text": [
      "Decision Tree Accuracy: 0.7847289823181973\n",
      "Decision Tree Precision: 0.790760663964826\n",
      "Decision Tree Recall: 0.7847289823181973\n",
      "Decision Tree F1-score: 0.7869574923559319\n"
     ]
    }
   ],
   "source": [
    "import pandas as pd\n",
    "from sklearn.model_selection import train_test_split\n",
    "from sklearn.tree import DecisionTreeClassifier\n",
    "from sklearn.metrics import accuracy_score\n",
    "\n",
    "features = ['posx', 'posy', 'spdx', 'spdy', 'spdx_n', 'spdy_n', 'aclx', 'acly', 'hedx', 'hedy', 'hedx_n', 'hedy_n']\n",
    "X = df[features]\n",
    "Y = df['class'].astype(int)\n",
    "\n",
    "X_train, X_test, Y_train, Y_test = train_test_split(X, Y, test_size=0.2, random_state=42)\n",
    "\n",
    "dt = DecisionTreeClassifier(random_state=42)\n",
    "\n",
    "dt.fit(X_train, Y_train)\n",
    "\n",
    "Y_pred = dt.predict(X_test)\n",
    "\n",
    "accuracy = accuracy_score(Y_test, Y_pred)\n",
    "precision = precision_score(Y_test, Y_pred, average='weighted')\n",
    "recall = recall_score(Y_test, Y_pred, average='weighted')\n",
    "f1 = f1_score(Y_test, Y_pred, average='weighted')\n",
    "\n",
    "print(\"Decision Tree Accuracy:\", accuracy)\n",
    "print(\"Decision Tree Precision:\", precision)\n",
    "print(\"Decision Tree Recall:\", recall)\n",
    "print(\"Decision Tree F1-score:\", f1)"
   ]
  },
  {
   "cell_type": "code",
   "execution_count": 15,
   "id": "3b6cdef2",
   "metadata": {},
   "outputs": [
    {
     "name": "stdout",
     "output_type": "stream",
     "text": [
      "Naive Bayes Accuracy: 0.6468522384742754\n",
      "Naive Bayes Precision: 0.6128961783665571\n",
      "Naive Bayes Recall: 0.6468522384742754\n",
      "Naive Bayes F1-score: 0.5272310068331603\n"
     ]
    }
   ],
   "source": [
    "import pandas as pd\n",
    "from sklearn.model_selection import train_test_split\n",
    "from sklearn.naive_bayes import GaussianNB\n",
    "from sklearn.metrics import accuracy_score\n",
    "\n",
    "features = ['posx', 'posy', 'spdx', 'spdy', 'spdx_n', 'spdy_n', 'aclx', 'acly', 'hedx', 'hedy', 'hedx_n', 'hedy_n']\n",
    "X = df[features]\n",
    "Y = df['class'].astype(int)\n",
    "\n",
    "X_train, X_test, Y_train, Y_test = train_test_split(X, Y, test_size=0.2, random_state=42)\n",
    "\n",
    "nb = GaussianNB()\n",
    "\n",
    "nb.fit(X_train, Y_train)\n",
    "\n",
    "Y_pred = nb.predict(X_test)\n",
    "\n",
    "accuracy = accuracy_score(Y_test, Y_pred)\n",
    "precision = precision_score(Y_test, Y_pred, average='weighted', zero_division=1)\n",
    "recall = recall_score(Y_test, Y_pred, average='weighted')\n",
    "f1 = f1_score(Y_test, Y_pred, average='weighted')\n",
    "\n",
    "print(\"Naive Bayes Accuracy:\", accuracy)\n",
    "print(\"Naive Bayes Precision:\", precision)\n",
    "print(\"Naive Bayes Recall:\", recall)\n",
    "print(\"Naive Bayes F1-score:\", f1)"
   ]
  },
  {
   "cell_type": "code",
   "execution_count": 17,
   "id": "09d6627e",
   "metadata": {},
   "outputs": [
    {
     "name": "stderr",
     "output_type": "stream",
     "text": [
      "C:\\Users\\david\\anaconda3\\lib\\site-packages\\sklearn\\neural_network\\_multilayer_perceptron.py:699: UserWarning: Training interrupted by user.\n",
      "  warnings.warn(\"Training interrupted by user.\")\n",
      "C:\\Users\\david\\anaconda3\\lib\\site-packages\\sklearn\\metrics\\_classification.py:1318: UndefinedMetricWarning: Precision is ill-defined and being set to 0.0 in labels with no predicted samples. Use `zero_division` parameter to control this behavior.\n",
      "  _warn_prf(average, modifier, msg_start, len(result))\n"
     ]
    },
    {
     "name": "stdout",
     "output_type": "stream",
     "text": [
      "MLP Accuracy: 0.7247895806010373\n",
      "MLP Precision: 0.6015638405907547\n",
      "MLP Recall: 0.7247895806010373\n",
      "MLP F1-score: 0.6376614391053204\n"
     ]
    }
   ],
   "source": [
    "import pandas as pd\n",
    "from sklearn.model_selection import train_test_split\n",
    "from sklearn.neural_network import MLPClassifier\n",
    "from sklearn.metrics import accuracy_score\n",
    "from sklearn.preprocessing import StandardScaler\n",
    "\n",
    "features = ['posx', 'posy', 'spdx', 'spdy', 'spdx_n', 'spdy_n', 'aclx', 'acly', 'hedx', 'hedy', 'hedx_n', 'hedy_n']\n",
    "X = df[features]\n",
    "Y = df['class'].astype(int)\n",
    "\n",
    "scaler = StandardScaler()\n",
    "X_scaled = scaler.fit_transform(X)\n",
    "\n",
    "X_train, X_test, Y_train, Y_test = train_test_split(X_scaled, Y, test_size=0.2, random_state=42)\n",
    "\n",
    "mlp = MLPClassifier(hidden_layer_sizes=(100, 50), activation='relu', solver='adam', random_state=42)\n",
    "\n",
    "mlp.fit(X_train, Y_train)\n",
    "\n",
    "Y_pred = mlp.predict(X_test)\n",
    "\n",
    "accuracy = accuracy_score(Y_test, Y_pred)\n",
    "precision = precision_score(Y_test, Y_pred, average='weighted')\n",
    "recall = recall_score(Y_test, Y_pred, average='weighted')\n",
    "f1 = f1_score(Y_test, Y_pred, average='weighted')\n",
    "\n",
    "print(\"MLP Accuracy:\", accuracy)\n",
    "print(\"MLP Precision:\", precision)\n",
    "print(\"MLP Recall:\", recall)\n",
    "print(\"MLP F1-score:\", f1)"
   ]
  },
  {
   "cell_type": "code",
   "execution_count": 18,
   "id": "500f786e",
   "metadata": {},
   "outputs": [
    {
     "name": "stderr",
     "output_type": "stream",
     "text": [
      "C:\\Users\\david\\AppData\\Roaming\\Python\\Python39\\site-packages\\keras\\src\\layers\\core\\dense.py:86: UserWarning: Do not pass an `input_shape`/`input_dim` argument to a layer. When using Sequential models, prefer using an `Input(shape)` object as the first layer in the model instead.\n",
      "  super().__init__(activity_regularizer=activity_regularizer, **kwargs)\n"
     ]
    },
    {
     "name": "stdout",
     "output_type": "stream",
     "text": [
      "\u001b[1m63897/63897\u001b[0m \u001b[32m━━━━━━━━━━━━━━━━━━━━\u001b[0m\u001b[37m\u001b[0m \u001b[1m69s\u001b[0m 1ms/step - accuracy: 0.0137 - loss: -137575940096.0000 - val_accuracy: 0.0137 - val_loss: -1941882535936.0000\n",
      "\u001b[1m19968/19968\u001b[0m \u001b[32m━━━━━━━━━━━━━━━━━━━━\u001b[0m\u001b[37m\u001b[0m \u001b[1m15s\u001b[0m 727us/step\n",
      "\u001b[1m19968/19968\u001b[0m \u001b[32m━━━━━━━━━━━━━━━━━━━━\u001b[0m\u001b[37m\u001b[0m \u001b[1m15s\u001b[0m 733us/step - accuracy: 0.0136 - loss: -1960076115968.0000\n"
     ]
    },
    {
     "name": "stderr",
     "output_type": "stream",
     "text": [
      "C:\\Users\\david\\anaconda3\\lib\\site-packages\\sklearn\\metrics\\_classification.py:1318: UndefinedMetricWarning: Precision is ill-defined and being set to 0.0 in labels with no predicted samples. Use `zero_division` parameter to control this behavior.\n",
      "  _warn_prf(average, modifier, msg_start, len(result))\n"
     ]
    },
    {
     "name": "stdout",
     "output_type": "stream",
     "text": [
      "ANN Accuracy: 0.013424898497760296\n",
      "ANN Precision: 0.00018022789993040557\n",
      "ANN Recall: 0.013424898507266473\n",
      "ANN F1-score: 0.0003556808209387275\n"
     ]
    }
   ],
   "source": [
    "import pandas as pd\n",
    "import numpy as np\n",
    "from sklearn.model_selection import train_test_split\n",
    "from sklearn.metrics import accuracy_score\n",
    "import tensorflow as tf\n",
    "from tensorflow.keras.models import Sequential\n",
    "from tensorflow.keras.layers import Dense\n",
    "\n",
    "features = ['posx', 'posy', 'spdx', 'spdy', 'spdx_n', 'spdy_n', 'aclx', 'acly', 'hedx', 'hedy', 'hedx_n', 'hedy_n']\n",
    "X = df[features]\n",
    "Y = df['class'].astype(int)\n",
    "\n",
    "X_train, X_test, Y_train, Y_test = train_test_split(X, Y, test_size=0.2, random_state=42)\n",
    "\n",
    "model = Sequential([\n",
    "    Dense(64, input_shape=(len(features),), activation='relu'),\n",
    "    Dense(32, activation='relu'),\n",
    "    Dense(1, activation='sigmoid')\n",
    "])\n",
    "\n",
    "model.compile(optimizer='adam', loss='binary_crossentropy', metrics=['accuracy'])\n",
    "\n",
    "model.fit(X_train, Y_train, epochs=1, batch_size=32, validation_split=0.2)\n",
    "\n",
    "Y_pred_prob = model.predict(X_test)\n",
    "Y_pred = (Y_pred_prob > 0.5).astype(int)\n",
    "\n",
    "loss, accuracy = model.evaluate(X_test, Y_test)\n",
    "\n",
    "Y_test = np.squeeze(Y_test)\n",
    "Y_pred = np.squeeze(Y_pred)\n",
    "\n",
    "precision = precision_score(Y_test, Y_pred, average='weighted')\n",
    "recall = recall_score(Y_test, Y_pred, average='weighted')\n",
    "f1 = f1_score(Y_test, Y_pred, average='weighted')\n",
    "\n",
    "print(\"ANN Accuracy:\", accuracy)\n",
    "print(\"ANN Precision:\", precision)\n",
    "print(\"ANN Recall:\", recall)\n",
    "print(\"ANN F1-score:\", f1)"
   ]
  },
  {
   "cell_type": "code",
   "execution_count": 19,
   "id": "5aa9e1b5",
   "metadata": {},
   "outputs": [
    {
     "name": "stderr",
     "output_type": "stream",
     "text": [
      "C:\\Users\\david\\AppData\\Roaming\\Python\\Python39\\site-packages\\keras\\src\\layers\\convolutional\\base_conv.py:99: UserWarning: Do not pass an `input_shape`/`input_dim` argument to a layer. When using Sequential models, prefer using an `Input(shape)` object as the first layer in the model instead.\n",
      "  super().__init__(\n"
     ]
    },
    {
     "name": "stdout",
     "output_type": "stream",
     "text": [
      "\u001b[1m63897/63897\u001b[0m \u001b[32m━━━━━━━━━━━━━━━━━━━━\u001b[0m\u001b[37m\u001b[0m \u001b[1m111s\u001b[0m 2ms/step - accuracy: 0.0139 - loss: -202919559168.0000 - val_accuracy: 0.0137 - val_loss: -2786442608640.0000\n",
      "\u001b[1m19968/19968\u001b[0m \u001b[32m━━━━━━━━━━━━━━━━━━━━\u001b[0m\u001b[37m\u001b[0m \u001b[1m20s\u001b[0m 991us/step\n",
      "\u001b[1m19968/19968\u001b[0m \u001b[32m━━━━━━━━━━━━━━━━━━━━\u001b[0m\u001b[37m\u001b[0m \u001b[1m21s\u001b[0m 1ms/step - accuracy: 0.0136 - loss: -2812324610048.0000\n",
      "CNN Accuracy: 0.013424898497760296\n",
      "CNN Precision: 0.9867553293926639\n",
      "CNN Recall: 0.013424898507266473\n",
      "CNN F1-score: 0.0003556808209387275\n"
     ]
    }
   ],
   "source": [
    "import pandas as pd\n",
    "import numpy as np\n",
    "from sklearn.model_selection import train_test_split\n",
    "from sklearn.metrics import accuracy_score\n",
    "import tensorflow as tf\n",
    "from tensorflow.keras.models import Sequential\n",
    "from tensorflow.keras.layers import Conv1D, MaxPooling1D, Flatten, Dense\n",
    "\n",
    "features = ['posx', 'posy', 'spdx', 'spdy', 'spdx_n', 'spdy_n', 'aclx', 'acly', 'hedx', 'hedy', 'hedx_n', 'hedy_n']\n",
    "X = df[features].values\n",
    "Y = df['class'].astype(int).values\n",
    "\n",
    "sequence_length = len(features)\n",
    "X = X.reshape(-1, sequence_length, 1)\n",
    "\n",
    "X_train, X_test, Y_train, Y_test = train_test_split(X, Y, test_size=0.2, random_state=42)\n",
    "\n",
    "model = Sequential([\n",
    "    Conv1D(filters=64, kernel_size=3, activation='relu', input_shape=(sequence_length, 1)),\n",
    "    MaxPooling1D(pool_size=2),\n",
    "    Flatten(),\n",
    "    Dense(64, activation='relu'),\n",
    "    Dense(1, activation='sigmoid')\n",
    "])\n",
    "\n",
    "model.compile(optimizer='adam', loss='binary_crossentropy', metrics=['accuracy'])\n",
    "\n",
    "model.fit(X_train, Y_train, epochs=1, batch_size=32, validation_split=0.2)\n",
    "\n",
    "Y_pred_prob = model.predict(X_test)\n",
    "Y_pred = (Y_pred_prob > 0.5).astype(int)\n",
    "\n",
    "loss, accuracy = model.evaluate(X_test, Y_test)\n",
    "\n",
    "Y_test = np.squeeze(Y_test)\n",
    "Y_pred = np.squeeze(Y_pred)\n",
    "\n",
    "precision = precision_score(Y_test, Y_pred, average='weighted', zero_division=1)\n",
    "recall = recall_score(Y_test, Y_pred, average='weighted')\n",
    "f1 = f1_score(Y_test, Y_pred, average='weighted')\n",
    "\n",
    "print(\"CNN Accuracy:\", accuracy)\n",
    "print(\"CNN Precision:\", precision)\n",
    "print(\"CNN Recall:\", recall)\n",
    "print(\"CNN F1-score:\", f1)"
   ]
  },
  {
   "cell_type": "code",
   "execution_count": 21,
   "id": "bcc6688a",
   "metadata": {},
   "outputs": [
    {
     "name": "stdout",
     "output_type": "stream",
     "text": [
      "\u001b[1m63897/63897\u001b[0m \u001b[32m━━━━━━━━━━━━━━━━━━━━\u001b[0m\u001b[37m\u001b[0m \u001b[1m250s\u001b[0m 4ms/step - accuracy: 0.0139 - loss: -3804.7917 - val_accuracy: 0.0137 - val_loss: -15137.7373\n",
      "\u001b[1m19968/19968\u001b[0m \u001b[32m━━━━━━━━━━━━━━━━━━━━\u001b[0m\u001b[37m\u001b[0m \u001b[1m37s\u001b[0m 2ms/step\n",
      "\u001b[1m19968/19968\u001b[0m \u001b[32m━━━━━━━━━━━━━━━━━━━━\u001b[0m\u001b[37m\u001b[0m \u001b[1m34s\u001b[0m 2ms/step - accuracy: 0.0136 - loss: -15238.0078\n",
      "LSTM Accuracy: 0.013424898497760296\n",
      "LSTM Precision: 0.9867553293926639\n",
      "LSTM Recall: 0.013424898507266473\n",
      "LSTM F1-score: 0.0003556808209387275\n"
     ]
    }
   ],
   "source": [
    "import pandas as pd\n",
    "import numpy as np\n",
    "from sklearn.model_selection import train_test_split\n",
    "from sklearn.metrics import accuracy_score\n",
    "import tensorflow as tf\n",
    "from tensorflow.keras.models import Sequential\n",
    "from tensorflow.keras.layers import LSTM, Dense\n",
    "\n",
    "features = ['posx', 'posy', 'spdx', 'spdy', 'spdx_n', 'spdy_n', 'aclx', 'acly', 'hedx', 'hedy', 'hedx_n', 'hedy_n']\n",
    "X = df[features].values\n",
    "Y = df['class'].astype(int).values\n",
    "\n",
    "sequence_length = len(features)\n",
    "X = X.reshape(-1, sequence_length, 1)\n",
    "\n",
    "X_train, X_test, Y_train, Y_test = train_test_split(X, Y, test_size=0.2, random_state=42)\n",
    "\n",
    "model = Sequential([\n",
    "    LSTM(64, input_shape=(sequence_length, 1)),\n",
    "    Dense(1, activation='sigmoid')\n",
    "])\n",
    "\n",
    "model.compile(optimizer='adam', loss='binary_crossentropy', metrics=['accuracy'])\n",
    "\n",
    "model.fit(X_train, Y_train, epochs=1, batch_size=32, validation_split=0.2)\n",
    "\n",
    "Y_pred_prob = model.predict(X_test)\n",
    "Y_pred = (Y_pred_prob > 0.5).astype(int)\n",
    "\n",
    "loss, accuracy = model.evaluate(X_test, Y_test)\n",
    "\n",
    "Y_test = np.squeeze(Y_test)\n",
    "Y_pred = np.squeeze(Y_pred)\n",
    "\n",
    "precision = precision_score(Y_test, Y_pred, average='weighted', zero_division=1)\n",
    "recall = recall_score(Y_test, Y_pred, average='weighted')\n",
    "f1 = f1_score(Y_test, Y_pred, average='weighted')\n",
    "\n",
    "print(\"LSTM Accuracy:\", accuracy)\n",
    "print(\"LSTM Precision:\", precision)\n",
    "print(\"LSTM Recall:\", recall)\n",
    "print(\"LSTM F1-score:\", f1)"
   ]
  },
  {
   "cell_type": "markdown",
   "id": "892a04e6",
   "metadata": {},
   "source": [
    "### <a class=\"anchor\" id=\"bullet5-4\"><b>Section 5.4</b>: Classification (A Guided Learning Approach for Multi-class Classification (G-LAMC))</a>"
   ]
  },
  {
   "cell_type": "markdown",
   "id": "bd24d047",
   "metadata": {},
   "source": [
    "<p>Because the original research work does not mention any detailed information of the method \"<b>A Guided Learning Approach for Multi-class Classification(G-LAMC)</b>\", the last part of research (this part) has to be skipped.</p>"
   ]
  },
  {
   "cell_type": "markdown",
   "id": "5ea28aa1",
   "metadata": {},
   "source": [
    "<b>Section 6</b>: Performance Matrices"
   ]
  },
  {
   "cell_type": "code",
   "execution_count": null,
   "id": "33313fca",
   "metadata": {},
   "outputs": [],
   "source": []
  },
  {
   "cell_type": "markdown",
   "id": "3a5c2af0",
   "metadata": {},
   "source": [
    "<b>Section 7</b>: Discussions"
   ]
  },
  {
   "cell_type": "code",
   "execution_count": null,
   "id": "f0d239f5",
   "metadata": {},
   "outputs": [],
   "source": []
  },
  {
   "cell_type": "markdown",
   "id": "dca0d9e6",
   "metadata": {},
   "source": [
    "<b>Section 8</b>: Conclusions"
   ]
  },
  {
   "cell_type": "code",
   "execution_count": null,
   "id": "4737830e",
   "metadata": {},
   "outputs": [],
   "source": []
  },
  {
   "cell_type": "markdown",
   "id": "33a68e9a",
   "metadata": {},
   "source": [
    "### <a class=\"anchor\" id=\"bib\"><b>Bibliography</b></a>\n",
    "\n",
    "[1] J. Kamel, “Github repository: Framework for misbehavior detection (f2md),” 2019. [Online]. Available: https://github.com/josephkamel/f2md\n",
    "\n",
    "[2] O. Slama, B. Alaya, and S. Zidi, “Towards Misbehavior Intelligent Detection Using Guided Machine Learning in Vehicular Ad-hoc Networks (VANET),” Inteligencia Artificial, vol. 25, no. 70, pp. 138–154, 2022, doi: 10.4114/intartif.vol25iss70pp138-154.\n",
    "\n",
    "[3] O. Slama, B. Alaya, S. Zidi, and M. Tarhouni, “Comparative Study of Misbehavior Detection System for Classifying misbehaviors on VANET.,” in 2022 8th International Conference on Control, Decision and Information Technologies (CoDIT). IEEE, May 2022, vol. 1, pp. 243–248."
   ]
  },
  {
   "cell_type": "code",
   "execution_count": null,
   "id": "9dbec594",
   "metadata": {},
   "outputs": [],
   "source": []
  }
 ],
 "metadata": {
  "kernelspec": {
   "display_name": "Python 3 (ipykernel)",
   "language": "python",
   "name": "python3"
  },
  "language_info": {
   "codemirror_mode": {
    "name": "ipython",
    "version": 3
   },
   "file_extension": ".py",
   "mimetype": "text/x-python",
   "name": "python",
   "nbconvert_exporter": "python",
   "pygments_lexer": "ipython3",
   "version": "3.9.13"
  }
 },
 "nbformat": 4,
 "nbformat_minor": 5
}
